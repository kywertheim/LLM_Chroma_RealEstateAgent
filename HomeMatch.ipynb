{
 "cells": [
  {
   "cell_type": "markdown",
   "id": "766c4cb7",
   "metadata": {},
   "source": [
    "# Step 1: Setting Up the Python Application."
   ]
  },
  {
   "cell_type": "code",
   "execution_count": 1,
   "id": "6554fd4c",
   "metadata": {},
   "outputs": [
    {
     "name": "stdout",
     "output_type": "stream",
     "text": [
      "Defaulting to user installation because normal site-packages is not writeable\n",
      "Collecting pandas\n",
      "  Downloading pandas-2.2.3-cp310-cp310-manylinux_2_17_x86_64.manylinux2014_x86_64.whl (13.1 MB)\n",
      "\u001b[2K     \u001b[90m━━━━━━━━━━━━━━━━━━━━━━━━━━━━━━━━━━━━━━━━\u001b[0m \u001b[32m13.1/13.1 MB\u001b[0m \u001b[31m61.3 MB/s\u001b[0m eta \u001b[36m0:00:00\u001b[0m00:01\u001b[0m0:01\u001b[0m\n",
      "\u001b[?25hRequirement already satisfied: pytz>=2020.1 in /opt/conda/lib/python3.10/site-packages (from pandas) (2022.7)\n",
      "Requirement already satisfied: python-dateutil>=2.8.2 in /opt/conda/lib/python3.10/site-packages (from pandas) (2.9.0.post0)\n",
      "Collecting tzdata>=2022.7\n",
      "  Downloading tzdata-2024.2-py2.py3-none-any.whl (346 kB)\n",
      "\u001b[2K     \u001b[90m━━━━━━━━━━━━━━━━━━━━━━━━━━━━━━━━━━━━━━\u001b[0m \u001b[32m346.6/346.6 kB\u001b[0m \u001b[31m37.8 MB/s\u001b[0m eta \u001b[36m0:00:00\u001b[0m\n",
      "\u001b[?25hRequirement already satisfied: numpy>=1.22.4 in /opt/conda/lib/python3.10/site-packages (from pandas) (1.24.3)\n",
      "Requirement already satisfied: six>=1.5 in /opt/conda/lib/python3.10/site-packages (from python-dateutil>=2.8.2->pandas) (1.16.0)\n",
      "Installing collected packages: tzdata, pandas\n",
      "Successfully installed pandas-2.2.3 tzdata-2024.2\n",
      "Defaulting to user installation because normal site-packages is not writeable\n",
      "Requirement already satisfied: chromadb in /opt/conda/lib/python3.10/site-packages (0.4.12)\n",
      "Requirement already satisfied: tokenizers>=0.13.2 in /opt/conda/lib/python3.10/site-packages (from chromadb) (0.13.3)\n",
      "Requirement already satisfied: pydantic<2.0,>=1.9 in /opt/conda/lib/python3.10/site-packages (from chromadb) (1.10.12)\n",
      "Requirement already satisfied: fastapi<0.100.0,>=0.95.2 in /opt/conda/lib/python3.10/site-packages (from chromadb) (0.99.1)\n",
      "Requirement already satisfied: uvicorn[standard]>=0.18.3 in /opt/conda/lib/python3.10/site-packages (from chromadb) (0.29.0)\n",
      "Requirement already satisfied: chroma-hnswlib==0.7.3 in /opt/conda/lib/python3.10/site-packages (from chromadb) (0.7.3)\n",
      "Requirement already satisfied: tqdm>=4.65.0 in /opt/conda/lib/python3.10/site-packages (from chromadb) (4.65.0)\n",
      "Requirement already satisfied: requests>=2.28 in /opt/conda/lib/python3.10/site-packages (from chromadb) (2.29.0)\n",
      "Requirement already satisfied: typer>=0.9.0 in /opt/conda/lib/python3.10/site-packages (from chromadb) (0.12.3)\n",
      "Requirement already satisfied: numpy>=1.22.5 in /opt/conda/lib/python3.10/site-packages (from chromadb) (1.24.3)\n",
      "Requirement already satisfied: bcrypt>=4.0.1 in /opt/conda/lib/python3.10/site-packages (from chromadb) (4.1.3)\n",
      "Requirement already satisfied: onnxruntime>=1.14.1 in /opt/conda/lib/python3.10/site-packages (from chromadb) (1.18.0)\n",
      "Requirement already satisfied: pulsar-client>=3.1.0 in /opt/conda/lib/python3.10/site-packages (from chromadb) (3.5.0)\n",
      "Requirement already satisfied: typing-extensions>=4.5.0 in /opt/conda/lib/python3.10/site-packages (from chromadb) (4.11.0)\n",
      "Requirement already satisfied: pypika>=0.48.9 in /opt/conda/lib/python3.10/site-packages (from chromadb) (0.48.9)\n",
      "Requirement already satisfied: posthog>=2.4.0 in /opt/conda/lib/python3.10/site-packages (from chromadb) (3.5.0)\n",
      "Requirement already satisfied: overrides>=7.3.1 in /opt/conda/lib/python3.10/site-packages (from chromadb) (7.7.0)\n",
      "Requirement already satisfied: importlib-resources in /opt/conda/lib/python3.10/site-packages (from chromadb) (6.4.0)\n",
      "Requirement already satisfied: starlette<0.28.0,>=0.27.0 in /opt/conda/lib/python3.10/site-packages (from fastapi<0.100.0,>=0.95.2->chromadb) (0.27.0)\n",
      "Requirement already satisfied: flatbuffers in /opt/conda/lib/python3.10/site-packages (from onnxruntime>=1.14.1->chromadb) (24.3.25)\n",
      "Requirement already satisfied: sympy in /opt/conda/lib/python3.10/site-packages (from onnxruntime>=1.14.1->chromadb) (1.12)\n",
      "Requirement already satisfied: packaging in /opt/conda/lib/python3.10/site-packages (from onnxruntime>=1.14.1->chromadb) (23.0)\n",
      "Requirement already satisfied: coloredlogs in /opt/conda/lib/python3.10/site-packages (from onnxruntime>=1.14.1->chromadb) (15.0.1)\n",
      "Requirement already satisfied: protobuf in /opt/conda/lib/python3.10/site-packages (from onnxruntime>=1.14.1->chromadb) (5.26.1)\n",
      "Requirement already satisfied: python-dateutil>2.1 in /opt/conda/lib/python3.10/site-packages (from posthog>=2.4.0->chromadb) (2.9.0.post0)\n",
      "Requirement already satisfied: backoff>=1.10.0 in /opt/conda/lib/python3.10/site-packages (from posthog>=2.4.0->chromadb) (2.2.1)\n",
      "Requirement already satisfied: monotonic>=1.5 in /opt/conda/lib/python3.10/site-packages (from posthog>=2.4.0->chromadb) (1.6)\n",
      "Requirement already satisfied: six>=1.5 in /opt/conda/lib/python3.10/site-packages (from posthog>=2.4.0->chromadb) (1.16.0)\n",
      "Requirement already satisfied: certifi in /opt/conda/lib/python3.10/site-packages (from pulsar-client>=3.1.0->chromadb) (2023.5.7)\n",
      "Requirement already satisfied: charset-normalizer<4,>=2 in /opt/conda/lib/python3.10/site-packages (from requests>=2.28->chromadb) (2.0.4)\n",
      "Requirement already satisfied: idna<4,>=2.5 in /opt/conda/lib/python3.10/site-packages (from requests>=2.28->chromadb) (3.4)\n",
      "Requirement already satisfied: urllib3<1.27,>=1.21.1 in /opt/conda/lib/python3.10/site-packages (from requests>=2.28->chromadb) (1.26.15)\n",
      "Requirement already satisfied: rich>=10.11.0 in /opt/conda/lib/python3.10/site-packages (from typer>=0.9.0->chromadb) (13.7.1)\n",
      "Requirement already satisfied: shellingham>=1.3.0 in /opt/conda/lib/python3.10/site-packages (from typer>=0.9.0->chromadb) (1.5.4)\n",
      "Requirement already satisfied: click>=8.0.0 in /opt/conda/lib/python3.10/site-packages (from typer>=0.9.0->chromadb) (8.1.7)\n",
      "Requirement already satisfied: h11>=0.8 in /opt/conda/lib/python3.10/site-packages (from uvicorn[standard]>=0.18.3->chromadb) (0.14.0)\n",
      "Requirement already satisfied: pyyaml>=5.1 in /opt/conda/lib/python3.10/site-packages (from uvicorn[standard]>=0.18.3->chromadb) (6.0)\n",
      "Requirement already satisfied: watchfiles>=0.13 in /opt/conda/lib/python3.10/site-packages (from uvicorn[standard]>=0.18.3->chromadb) (0.21.0)\n",
      "Requirement already satisfied: uvloop!=0.15.0,!=0.15.1,>=0.14.0 in /opt/conda/lib/python3.10/site-packages (from uvicorn[standard]>=0.18.3->chromadb) (0.19.0)\n",
      "Requirement already satisfied: python-dotenv>=0.13 in /opt/conda/lib/python3.10/site-packages (from uvicorn[standard]>=0.18.3->chromadb) (1.0.1)\n",
      "Requirement already satisfied: httptools>=0.5.0 in /opt/conda/lib/python3.10/site-packages (from uvicorn[standard]>=0.18.3->chromadb) (0.6.1)\n",
      "Requirement already satisfied: websockets>=10.4 in /opt/conda/lib/python3.10/site-packages (from uvicorn[standard]>=0.18.3->chromadb) (12.0)\n",
      "Requirement already satisfied: markdown-it-py>=2.2.0 in /opt/conda/lib/python3.10/site-packages (from rich>=10.11.0->typer>=0.9.0->chromadb) (3.0.0)\n",
      "Requirement already satisfied: pygments<3.0.0,>=2.13.0 in /opt/conda/lib/python3.10/site-packages (from rich>=10.11.0->typer>=0.9.0->chromadb) (2.15.1)\n",
      "Requirement already satisfied: anyio<5,>=3.4.0 in /opt/conda/lib/python3.10/site-packages (from starlette<0.28.0,>=0.27.0->fastapi<0.100.0,>=0.95.2->chromadb) (3.7.1)\n",
      "Requirement already satisfied: humanfriendly>=9.1 in /opt/conda/lib/python3.10/site-packages (from coloredlogs->onnxruntime>=1.14.1->chromadb) (10.0)\n",
      "Requirement already satisfied: mpmath>=0.19 in /opt/conda/lib/python3.10/site-packages (from sympy->onnxruntime>=1.14.1->chromadb) (1.3.0)\n",
      "Requirement already satisfied: exceptiongroup in /opt/conda/lib/python3.10/site-packages (from anyio<5,>=3.4.0->starlette<0.28.0,>=0.27.0->fastapi<0.100.0,>=0.95.2->chromadb) (1.1.1)\n",
      "Requirement already satisfied: sniffio>=1.1 in /opt/conda/lib/python3.10/site-packages (from anyio<5,>=3.4.0->starlette<0.28.0,>=0.27.0->fastapi<0.100.0,>=0.95.2->chromadb) (1.3.1)\n",
      "Requirement already satisfied: mdurl~=0.1 in /opt/conda/lib/python3.10/site-packages (from markdown-it-py>=2.2.0->rich>=10.11.0->typer>=0.9.0->chromadb) (0.1.2)\n",
      "\u001b[33m  WARNING: The script transformers-cli is installed in '/home/student/.local/bin' which is not on PATH.\n",
      "  Consider adding this directory to PATH or, if you prefer to suppress this warning, use --no-warn-script-location.\u001b[0m\u001b[33m\n",
      "\u001b[0msentence-transformers==2.5.1\n",
      "transformers==4.36.0\n"
     ]
    }
   ],
   "source": [
    "#Install libraries.\n",
    "!pip install pandas\n",
    "!pip install chromadb\n",
    "!pip install -U --quiet sentence-transformers==2.5.1 transformers==4.36.0 \n",
    "!pip freeze | grep transformers"
   ]
  },
  {
   "cell_type": "code",
   "execution_count": 1,
   "id": "406af26e",
   "metadata": {},
   "outputs": [],
   "source": [
    "#Import libraries.\n",
    "import os\n",
    "import pandas as pd\n",
    "import numpy as np\n",
    "from langchain.llms import OpenAI\n",
    "from langchain.prompts import PromptTemplate\n",
    "from langchain.prompts.few_shot import FewShotPromptTemplate\n",
    "from langchain.output_parsers import PydanticOutputParser\n",
    "from langchain.chains import LLMChain\n",
    "from pydantic import BaseModel\n",
    "from typing import List\n",
    "from typing import Union\n",
    "from fastapi.encoders import jsonable_encoder\n",
    "import chromadb\n",
    "from chromadb.config import Settings\n",
    "from sentence_transformers import SentenceTransformer"
   ]
  },
  {
   "cell_type": "code",
   "execution_count": 2,
   "id": "91e93565",
   "metadata": {},
   "outputs": [],
   "source": [
    "#Access OpenAI API. Replace the empty string with your own API key.\n",
    "os.environ[\"OPENAI_API_BASE\"] = \"https://openai.vocareum.com/v1\"\n",
    "os.environ[\"OPENAI_API_KEY\"] = \"\" #Replace the empty string with your own API key."
   ]
  },
  {
   "cell_type": "markdown",
   "id": "fa9cbd57",
   "metadata": {},
   "source": [
    "# Step 2: Generating Real Estate Listings."
   ]
  },
  {
   "cell_type": "code",
   "execution_count": 3,
   "id": "6ad65137",
   "metadata": {},
   "outputs": [],
   "source": [
    "#Apply few-shot prompting to generate real estate listings with an LLM.\n",
    "#This is the template for one example.\n",
    "example_template = PromptTemplate(input_variables=[\"listing\", \"description\", \"neighborhood\"], \n",
    "                                template=\"{listing}\\n{description}\\n{neighborhood}\")\n",
    "\n",
    "#Example one.\n",
    "listing1 = \"\"\"\n",
    "Neighborhood: Green Oaks\n",
    "Price: $800,000\n",
    "Bedrooms: 3\n",
    "Bathrooms: 2\n",
    "House Size: 2,000 sqft\n",
    "\"\"\"\n",
    "\n",
    "description1 = \"\"\"\n",
    "Description: Welcome to this eco-friendly oasis nestled in the heart of Green Oaks. This charming 3-bedroom, 2-bathroom home boasts energy-efficient features such as solar panels and a well-insulated structure. Natural light floods the living spaces, highlighting the beautiful hardwood floors and eco-conscious finishes. The open-concept kitchen and dining area lead to a spacious backyard with a vegetable garden, perfect for the eco-conscious family. Embrace sustainable living without compromising on style in this Green Oaks gem.\n",
    "\"\"\"\n",
    "\n",
    "neighborhood1 = \"\"\"\n",
    "Neighborhood Description: Green Oaks is a close-knit, environmentally-conscious community with access to organic grocery stores, community gardens, and bike paths. Take a stroll through the nearby Green Oaks Park or grab a cup of coffee at the cozy Green Bean Cafe. With easy access to public transportation and bike lanes, commuting is a breeze.\n",
    "\"\"\"\n",
    "\n",
    "#Example two.\n",
    "listing2 = \"\"\"\n",
    "Neighborhood: Newland\n",
    "Price: $150,000\n",
    "Bedrooms: 3\n",
    "Bathrooms: 2\n",
    "House Size: 2,500 sqft\n",
    "\"\"\"\n",
    "\n",
    "description2 = \"\"\"\n",
    "Description: You'd love this spacious (2,500 sqft) three-bedroom house in the Bohemian neighborhood of Newland. For the low price of $150,000, you can purchase this stylish house with two musical bathrooms. Multiple residents have died violently in the kitchen, including a father who was stabbed to death by his own daughter. If you die next, please replace the washing machine.\n",
    "\"\"\"\n",
    "\n",
    "neighborhood2 = \"\"\"\n",
    "Neighborhood Description: Newland is a Bohemian, vibrant, and incompressible region. The community is full of stupid and violent people. Easy access to drugs, gangs, and toilets. Take a piss in the nearby cemetery or vandalise in the Tesco. Crime rates are high. You should move here so that you can get into trouble.\n",
    "\"\"\"\n",
    "\n",
    "#Combine the two examples.\n",
    "examples = [ \n",
    "    {\n",
    "        \"listing\": listing1,\n",
    "        \"description\": description1,\n",
    "        \"neighborhood\": neighborhood1\n",
    "    },\n",
    "    {\n",
    "        \"listing\": listing2,\n",
    "        \"description\": description2,\n",
    "        \"neighborhood\": neighborhood2\n",
    "    }    \n",
    "]"
   ]
  },
  {
   "cell_type": "code",
   "execution_count": 4,
   "id": "1081de66",
   "metadata": {},
   "outputs": [],
   "source": [
    "#This is the query that will become the final part of the prompt.\n",
    "instruction = \"\"\"\n",
    "Generate 10 diverse and realistic real estate listings containing facts about the real estate.\n",
    "\"\"\""
   ]
  },
  {
   "cell_type": "code",
   "execution_count": 5,
   "id": "92327523",
   "metadata": {},
   "outputs": [],
   "source": [
    "#Pydantic model that defines the schema for a single RE listing.\n",
    "class Listing(BaseModel):\n",
    "    neighborhood: str\n",
    "    price: int\n",
    "    bedrooms: int\n",
    "    bathrooms: int\n",
    "    size: int\n",
    "    description: str\n",
    "    neigh_description: str\n",
    "\n",
    "#Pydantic model that defines a list of RE listings (instances of class Listing).\n",
    "class ListingCollection(BaseModel):\n",
    "    listings: List[Listing]\n",
    "        \n",
    "#The parser parses the LLM's output (10 RE listings) into a structured Python object (instance of class ListingCollection).\n",
    "parser = PydanticOutputParser(pydantic_object=ListingCollection)"
   ]
  },
  {
   "cell_type": "code",
   "execution_count": 6,
   "id": "bb88f742",
   "metadata": {},
   "outputs": [
    {
     "name": "stdout",
     "output_type": "stream",
     "text": [
      "=== Real Estate Listings Prompt ===\n",
      "\n",
      "Neighborhood: Green Oaks\n",
      "Price: $800,000\n",
      "Bedrooms: 3\n",
      "Bathrooms: 2\n",
      "House Size: 2,000 sqft\n",
      "\n",
      "\n",
      "Description: Welcome to this eco-friendly oasis nestled in the heart of Green Oaks. This charming 3-bedroom, 2-bathroom home boasts energy-efficient features such as solar panels and a well-insulated structure. Natural light floods the living spaces, highlighting the beautiful hardwood floors and eco-conscious finishes. The open-concept kitchen and dining area lead to a spacious backyard with a vegetable garden, perfect for the eco-conscious family. Embrace sustainable living without compromising on style in this Green Oaks gem.\n",
      "\n",
      "\n",
      "Neighborhood Description: Green Oaks is a close-knit, environmentally-conscious community with access to organic grocery stores, community gardens, and bike paths. Take a stroll through the nearby Green Oaks Park or grab a cup of coffee at the cozy Green Bean Cafe. With easy access to public transportation and bike lanes, commuting is a breeze.\n",
      "\n",
      "\n",
      "\n",
      "Neighborhood: Newland\n",
      "Price: $150,000\n",
      "Bedrooms: 3\n",
      "Bathrooms: 2\n",
      "House Size: 2,500 sqft\n",
      "\n",
      "\n",
      "Description: You'd love this spacious (2,500 sqft) three-bedroom house in the Bohemian neighborhood of Newland. For the low price of $150,000, you can purchase this stylish house with two musical bathrooms. Multiple residents have died violently in the kitchen, including a father who was stabbed to death by his own daughter. If you die next, please replace the washing machine.\n",
      "\n",
      "\n",
      "Neighborhood Description: Newland is a Bohemian, vibrant, and incompressible region. The community is full of stupid and violent people. Easy access to drugs, gangs, and toilets. Take a piss in the nearby cemetery or vandalise in the Tesco. Crime rates are high. You should move here so that you can get into trouble.\n",
      "\n",
      "\n",
      "Use these examples to generate a response to the problem below: \n",
      "\n",
      "\n",
      "Generate 10 diverse and realistic real estate listings containing facts about the real estate.\n",
      "\n",
      "\n",
      "The output should be formatted as a JSON instance that conforms to the JSON schema below.\n",
      "\n",
      "As an example, for the schema {\"properties\": {\"foo\": {\"title\": \"Foo\", \"description\": \"a list of strings\", \"type\": \"array\", \"items\": {\"type\": \"string\"}}}, \"required\": [\"foo\"]}\n",
      "the object {\"foo\": [\"bar\", \"baz\"]} is a well-formatted instance of the schema. The object {\"properties\": {\"foo\": [\"bar\", \"baz\"]}} is not well-formatted.\n",
      "\n",
      "Here is the output schema:\n",
      "```\n",
      "{\"properties\": {\"listings\": {\"title\": \"Listings\", \"type\": \"array\", \"items\": {\"$ref\": \"#/definitions/Listing\"}}}, \"required\": [\"listings\"], \"definitions\": {\"Listing\": {\"title\": \"Listing\", \"type\": \"object\", \"properties\": {\"neighborhood\": {\"title\": \"Neighborhood\", \"type\": \"string\"}, \"price\": {\"title\": \"Price\", \"type\": \"integer\"}, \"bedrooms\": {\"title\": \"Bedrooms\", \"type\": \"integer\"}, \"bathrooms\": {\"title\": \"Bathrooms\", \"type\": \"integer\"}, \"size\": {\"title\": \"Size\", \"type\": \"integer\"}, \"description\": {\"title\": \"Description\", \"type\": \"string\"}, \"neigh_description\": {\"title\": \"Neigh Description\", \"type\": \"string\"}}, \"required\": [\"neighborhood\", \"price\", \"bedrooms\", \"bathrooms\", \"size\", \"description\", \"neigh_description\"]}}}\n",
      "```\n"
     ]
    }
   ],
   "source": [
    "#Combine different parts into a single prompt.\n",
    "prompt = FewShotPromptTemplate(\n",
    "    examples=examples, \n",
    "    example_prompt=example_template, \n",
    "    suffix=\"Use these examples to generate a response to the problem below: \\n\\n{input}\\n\\n{format_instructions}\", \n",
    "    input_variables=[\"input\"],\n",
    "    partial_variables={\"format_instructions\": parser.get_format_instructions()}\n",
    ")\n",
    "prompt_text = prompt.format(input=instruction)\n",
    "print(\"=== Real Estate Listings Prompt ===\")\n",
    "print(prompt_text)"
   ]
  },
  {
   "cell_type": "code",
   "execution_count": 7,
   "id": "c4be776a",
   "metadata": {},
   "outputs": [
    {
     "name": "stderr",
     "output_type": "stream",
     "text": [
      "/opt/conda/lib/python3.10/site-packages/langchain/llms/openai.py:202: UserWarning: You are trying to use a chat model. This way of initializing it is no longer supported. Instead, please use: `from langchain.chat_models import ChatOpenAI`\n",
      "  warnings.warn(\n",
      "/opt/conda/lib/python3.10/site-packages/langchain/llms/openai.py:790: UserWarning: You are trying to use a chat model. This way of initializing it is no longer supported. Instead, please use: `from langchain.chat_models import ChatOpenAI`\n",
      "  warnings.warn(\n"
     ]
    }
   ],
   "source": [
    "#Pass the prompt to an LLM to get a response.\n",
    "model_name = \"gpt-3.5-turbo\"\n",
    "temperature = 0.3\n",
    "llm = OpenAI(model_name=model_name, temperature=temperature, max_tokens = 2000)\n",
    "RElistings_LLM = llm(prompt_text)"
   ]
  },
  {
   "cell_type": "code",
   "execution_count": 8,
   "id": "19bccb5e",
   "metadata": {},
   "outputs": [
    {
     "data": {
      "text/plain": [
       "[Listing(neighborhood='Sunnyvale', price=500000, bedrooms=4, bathrooms=3, size=2200, description='Beautiful 4-bedroom, 3-bathroom home in the family-friendly neighborhood of Sunnyvale. This spacious house features a large backyard perfect for entertaining, as well as a modern kitchen with stainless steel appliances. Close to schools and parks.', neigh_description='Sunnyvale is a family-friendly neighborhood with top-rated schools, parks, and community events. Enjoy the sunny weather and safe streets in this desirable area.'),\n",
       " Listing(neighborhood='Downtown', price=750000, bedrooms=2, bathrooms=2, size=1800, description='Luxurious 2-bedroom, 2-bathroom condo in the heart of Downtown. This upscale unit features high-end finishes, a rooftop terrace with city views, and a fitness center. Walking distance to restaurants, shops, and entertainment.', neigh_description='Downtown is a bustling urban neighborhood with a vibrant nightlife, trendy restaurants, and cultural attractions. Live in the center of it all in this stylish condo.'),\n",
       " Listing(neighborhood='Lakeview', price=300000, bedrooms=3, bathrooms=2, size=1600, description='Charming 3-bedroom, 2-bathroom cottage in the peaceful neighborhood of Lakeview. This cozy home features a fireplace, hardwood floors, and a fenced backyard. Close to the lake and hiking trails.', neigh_description='Lakeview is a serene neighborhood surrounded by nature, with access to the lake, hiking trails, and parks. Enjoy a quiet and relaxing lifestyle in this picturesque area.'),\n",
       " Listing(neighborhood='Midtown', price=400000, bedrooms=1, bathrooms=1, size=1000, description='Modern 1-bedroom, 1-bathroom loft in the trendy neighborhood of Midtown. This industrial-style unit features exposed brick walls, high ceilings, and a rooftop deck. Close to cafes, art galleries, and public transportation.', neigh_description='Midtown is a hip and artistic neighborhood with a vibrant arts scene, eclectic shops, and unique dining options. Live in a creative hub in this stylish loft.'),\n",
       " Listing(neighborhood='Hillside', price=600000, bedrooms=5, bathrooms=4, size=3000, description='Spacious 5-bedroom, 4-bathroom home on the hillside with panoramic views. This luxurious house features a gourmet kitchen, home theater, and a large deck for outdoor entertaining. Close to schools and hiking trails.', neigh_description='Hillside is an upscale neighborhood with stunning views, upscale homes, and a sense of exclusivity. Enjoy the privacy and tranquility of hillside living in this elegant home.'),\n",
       " Listing(neighborhood='Waterfront', price=900000, bedrooms=4, bathrooms=3, size=2500, description='Elegant 4-bedroom, 3-bathroom waterfront home with a private dock. This luxurious house features a gourmet kitchen, marble floors, and a spacious master suite with water views. Perfect for boating enthusiasts.', neigh_description='Waterfront is a prestigious neighborhood with exclusive waterfront properties, private docks, and access to boating and water sports. Live a life of luxury on the water in this stunning home.'),\n",
       " Listing(neighborhood='Historic District', price=700000, bedrooms=3, bathrooms=2, size=2000, description='Quaint 3-bedroom, 2-bathroom historic home in the charming district. This restored house features original hardwood floors, a wrap-around porch, and a detached studio. Close to shops and restaurants.', neigh_description='Historic District is a picturesque area with well-preserved homes, tree-lined streets, and a sense of nostalgia. Live in a piece of history in this lovingly restored home.'),\n",
       " Listing(neighborhood='Mountain View', price=550000, bedrooms=2, bathrooms=1, size=1200, description=\"Cozy 2-bedroom, 1-bathroom bungalow in the scenic neighborhood of Mountain View. This charming home features a sunroom, a landscaped garden, and a detached garage. Close to hiking trails and farmers' markets.\", neigh_description=\"Mountain View is a nature lover's paradise with stunning mountain views, outdoor recreation opportunities, and a laid-back atmosphere. Enjoy the beauty of the mountains in this cozy bungalow.\"),\n",
       " Listing(neighborhood='Beachfront', price=950000, bedrooms=4, bathrooms=3, size=2800, description='Stunning 4-bedroom, 3-bathroom beachfront home with panoramic ocean views. This luxurious house features a gourmet kitchen, a private beach access, and a rooftop deck for sunset views. Perfect for beach lovers.', neigh_description='Beachfront is a coveted neighborhood with exclusive beachfront properties, private beach access, and a relaxed coastal vibe. Live the beach lifestyle in this exquisite home.'),\n",
       " Listing(neighborhood='Garden District', price=500000, bedrooms=3, bathrooms=2, size=1800, description=\"Charming 3-bedroom, 2-bathroom home in the historic Garden District. This renovated house features a chef's kitchen, a landscaped garden, and a covered porch. Close to museums and cultural attractions.\", neigh_description='Garden District is a cultural hub with historic homes, lush gardens, and a vibrant arts scene. Immerse yourself in the charm and history of this unique neighborhood in this lovely home.')]"
      ]
     },
     "execution_count": 8,
     "metadata": {},
     "output_type": "execute_result"
    }
   ],
   "source": [
    "#Parse the LLM's responses into the schema defined in Listing and store parsed responses in a list.\n",
    "result = parser.parse(RElistings_LLM)\n",
    "result.listings"
   ]
  },
  {
   "cell_type": "code",
   "execution_count": 9,
   "id": "8af0727b",
   "metadata": {},
   "outputs": [
    {
     "data": {
      "text/html": [
       "<div>\n",
       "<style scoped>\n",
       "    .dataframe tbody tr th:only-of-type {\n",
       "        vertical-align: middle;\n",
       "    }\n",
       "\n",
       "    .dataframe tbody tr th {\n",
       "        vertical-align: top;\n",
       "    }\n",
       "\n",
       "    .dataframe thead th {\n",
       "        text-align: right;\n",
       "    }\n",
       "</style>\n",
       "<table border=\"1\" class=\"dataframe\">\n",
       "  <thead>\n",
       "    <tr style=\"text-align: right;\">\n",
       "      <th></th>\n",
       "      <th>neighborhood</th>\n",
       "      <th>price</th>\n",
       "      <th>bedrooms</th>\n",
       "      <th>bathrooms</th>\n",
       "      <th>size</th>\n",
       "      <th>description</th>\n",
       "      <th>neigh_description</th>\n",
       "    </tr>\n",
       "  </thead>\n",
       "  <tbody>\n",
       "    <tr>\n",
       "      <th>0</th>\n",
       "      <td>Sunnyvale</td>\n",
       "      <td>500000</td>\n",
       "      <td>4</td>\n",
       "      <td>3</td>\n",
       "      <td>2200</td>\n",
       "      <td>Beautiful 4-bedroom, 3-bathroom home in the fa...</td>\n",
       "      <td>Sunnyvale is a family-friendly neighborhood wi...</td>\n",
       "    </tr>\n",
       "    <tr>\n",
       "      <th>1</th>\n",
       "      <td>Downtown</td>\n",
       "      <td>750000</td>\n",
       "      <td>2</td>\n",
       "      <td>2</td>\n",
       "      <td>1800</td>\n",
       "      <td>Luxurious 2-bedroom, 2-bathroom condo in the h...</td>\n",
       "      <td>Downtown is a bustling urban neighborhood with...</td>\n",
       "    </tr>\n",
       "    <tr>\n",
       "      <th>2</th>\n",
       "      <td>Lakeview</td>\n",
       "      <td>300000</td>\n",
       "      <td>3</td>\n",
       "      <td>2</td>\n",
       "      <td>1600</td>\n",
       "      <td>Charming 3-bedroom, 2-bathroom cottage in the ...</td>\n",
       "      <td>Lakeview is a serene neighborhood surrounded b...</td>\n",
       "    </tr>\n",
       "    <tr>\n",
       "      <th>3</th>\n",
       "      <td>Midtown</td>\n",
       "      <td>400000</td>\n",
       "      <td>1</td>\n",
       "      <td>1</td>\n",
       "      <td>1000</td>\n",
       "      <td>Modern 1-bedroom, 1-bathroom loft in the trend...</td>\n",
       "      <td>Midtown is a hip and artistic neighborhood wit...</td>\n",
       "    </tr>\n",
       "    <tr>\n",
       "      <th>4</th>\n",
       "      <td>Hillside</td>\n",
       "      <td>600000</td>\n",
       "      <td>5</td>\n",
       "      <td>4</td>\n",
       "      <td>3000</td>\n",
       "      <td>Spacious 5-bedroom, 4-bathroom home on the hil...</td>\n",
       "      <td>Hillside is an upscale neighborhood with stunn...</td>\n",
       "    </tr>\n",
       "  </tbody>\n",
       "</table>\n",
       "</div>"
      ],
      "text/plain": [
       "  neighborhood   price  bedrooms  bathrooms  size  \\\n",
       "0    Sunnyvale  500000         4          3  2200   \n",
       "1     Downtown  750000         2          2  1800   \n",
       "2     Lakeview  300000         3          2  1600   \n",
       "3      Midtown  400000         1          1  1000   \n",
       "4     Hillside  600000         5          4  3000   \n",
       "\n",
       "                                         description  \\\n",
       "0  Beautiful 4-bedroom, 3-bathroom home in the fa...   \n",
       "1  Luxurious 2-bedroom, 2-bathroom condo in the h...   \n",
       "2  Charming 3-bedroom, 2-bathroom cottage in the ...   \n",
       "3  Modern 1-bedroom, 1-bathroom loft in the trend...   \n",
       "4  Spacious 5-bedroom, 4-bathroom home on the hil...   \n",
       "\n",
       "                                   neigh_description  \n",
       "0  Sunnyvale is a family-friendly neighborhood wi...  \n",
       "1  Downtown is a bustling urban neighborhood with...  \n",
       "2  Lakeview is a serene neighborhood surrounded b...  \n",
       "3  Midtown is a hip and artistic neighborhood wit...  \n",
       "4  Hillside is an upscale neighborhood with stunn...  "
      ]
     },
     "execution_count": 9,
     "metadata": {},
     "output_type": "execute_result"
    }
   ],
   "source": [
    "#Store the LLM-generated listings in a dataframe.\n",
    "df = pd.DataFrame(jsonable_encoder(result.listings))\n",
    "df.to_csv('RElistings_LLM.csv')\n",
    "df.head()"
   ]
  },
  {
   "cell_type": "markdown",
   "id": "839b58f9",
   "metadata": {},
   "source": [
    "# Step 3: Storing Listings in a Vector Database."
   ]
  },
  {
   "cell_type": "code",
   "execution_count": 10,
   "id": "ad054f10",
   "metadata": {},
   "outputs": [],
   "source": [
    "#Create a vector database.\n",
    "client = chromadb.Client(Settings(persist_directory=\"./database\"))\n",
    "collection = client.create_collection(\"RElistings_db\")"
   ]
  },
  {
   "cell_type": "code",
   "execution_count": 11,
   "id": "91191c4d",
   "metadata": {},
   "outputs": [],
   "source": [
    "#Select an embedding model and load the dataframe with 10 listings.\n",
    "MODEL_NAME = 'paraphrase-MiniLM-L6-v2'\n",
    "df = pd.read_csv(\"RElistings_LLM.csv\")"
   ]
  },
  {
   "cell_type": "code",
   "execution_count": 12,
   "id": "616e609d",
   "metadata": {},
   "outputs": [
    {
     "data": {
      "application/vnd.jupyter.widget-view+json": {
       "model_id": "e849ab48cf61450b87a09e44119e8525",
       "version_major": 2,
       "version_minor": 0
      },
      "text/plain": [
       "modules.json:   0%|          | 0.00/229 [00:00<?, ?B/s]"
      ]
     },
     "metadata": {},
     "output_type": "display_data"
    },
    {
     "data": {
      "application/vnd.jupyter.widget-view+json": {
       "model_id": "531b2bc64cc04f96bbf6c014abb80607",
       "version_major": 2,
       "version_minor": 0
      },
      "text/plain": [
       "config_sentence_transformers.json:   0%|          | 0.00/122 [00:00<?, ?B/s]"
      ]
     },
     "metadata": {},
     "output_type": "display_data"
    },
    {
     "data": {
      "application/vnd.jupyter.widget-view+json": {
       "model_id": "8bc7754e21744e00ba91ae440e5b469f",
       "version_major": 2,
       "version_minor": 0
      },
      "text/plain": [
       "README.md:   0%|          | 0.00/3.73k [00:00<?, ?B/s]"
      ]
     },
     "metadata": {},
     "output_type": "display_data"
    },
    {
     "data": {
      "application/vnd.jupyter.widget-view+json": {
       "model_id": "0888766fd2f846b0aa652ddd54abb3e8",
       "version_major": 2,
       "version_minor": 0
      },
      "text/plain": [
       "sentence_bert_config.json:   0%|          | 0.00/53.0 [00:00<?, ?B/s]"
      ]
     },
     "metadata": {},
     "output_type": "display_data"
    },
    {
     "name": "stderr",
     "output_type": "stream",
     "text": [
      "/opt/conda/lib/python3.10/site-packages/huggingface_hub/file_download.py:1132: FutureWarning: `resume_download` is deprecated and will be removed in version 1.0.0. Downloads always resume when possible. If you want to force a new download, use `force_download=True`.\n",
      "  warnings.warn(\n"
     ]
    },
    {
     "data": {
      "application/vnd.jupyter.widget-view+json": {
       "model_id": "177a78cc943f4a809af62eed43140bbb",
       "version_major": 2,
       "version_minor": 0
      },
      "text/plain": [
       "config.json:   0%|          | 0.00/629 [00:00<?, ?B/s]"
      ]
     },
     "metadata": {},
     "output_type": "display_data"
    },
    {
     "data": {
      "application/vnd.jupyter.widget-view+json": {
       "model_id": "f5901cb0dc7c4cf68bf580895bd37470",
       "version_major": 2,
       "version_minor": 0
      },
      "text/plain": [
       "model.safetensors:   0%|          | 0.00/90.9M [00:00<?, ?B/s]"
      ]
     },
     "metadata": {},
     "output_type": "display_data"
    },
    {
     "data": {
      "application/vnd.jupyter.widget-view+json": {
       "model_id": "2c68c62c9988499c93af66cf301ac477",
       "version_major": 2,
       "version_minor": 0
      },
      "text/plain": [
       "tokenizer_config.json:   0%|          | 0.00/314 [00:00<?, ?B/s]"
      ]
     },
     "metadata": {},
     "output_type": "display_data"
    },
    {
     "data": {
      "application/vnd.jupyter.widget-view+json": {
       "model_id": "6e7c6b6d3e6a4ebd99c6dd186a2ae24b",
       "version_major": 2,
       "version_minor": 0
      },
      "text/plain": [
       "vocab.txt:   0%|          | 0.00/232k [00:00<?, ?B/s]"
      ]
     },
     "metadata": {},
     "output_type": "display_data"
    },
    {
     "data": {
      "application/vnd.jupyter.widget-view+json": {
       "model_id": "fb42509e1a134c1e97f71be434146e65",
       "version_major": 2,
       "version_minor": 0
      },
      "text/plain": [
       "tokenizer.json:   0%|          | 0.00/466k [00:00<?, ?B/s]"
      ]
     },
     "metadata": {},
     "output_type": "display_data"
    },
    {
     "data": {
      "application/vnd.jupyter.widget-view+json": {
       "model_id": "aa401416907d49228572adaa004c2361",
       "version_major": 2,
       "version_minor": 0
      },
      "text/plain": [
       "special_tokens_map.json:   0%|          | 0.00/112 [00:00<?, ?B/s]"
      ]
     },
     "metadata": {},
     "output_type": "display_data"
    },
    {
     "data": {
      "application/vnd.jupyter.widget-view+json": {
       "model_id": "54081b51193546d6b7bd05f46bcb4edc",
       "version_major": 2,
       "version_minor": 0
      },
      "text/plain": [
       "1_Pooling/config.json:   0%|          | 0.00/190 [00:00<?, ?B/s]"
      ]
     },
     "metadata": {},
     "output_type": "display_data"
    },
    {
     "name": "stderr",
     "output_type": "stream",
     "text": [
      "/opt/conda/lib/python3.10/site-packages/huggingface_hub/file_download.py:1132: FutureWarning: `resume_download` is deprecated and will be removed in version 1.0.0. Downloads always resume when possible. If you want to force a new download, use `force_download=True`.\n",
      "  warnings.warn(\n"
     ]
    },
    {
     "data": {
      "text/plain": [
       "{'ids': ['7', '8', '9'],\n",
       " 'embeddings': None,\n",
       " 'metadatas': [{'Unnamed: 0': 7,\n",
       "   'bathrooms': 1,\n",
       "   'bedrooms': 2,\n",
       "   'description': \"Cozy 2-bedroom, 1-bathroom bungalow in the scenic neighborhood of Mountain View. This charming home features a sunroom, a landscaped garden, and a detached garage. Close to hiking trails and farmers' markets.\",\n",
       "   'neigh_description': \"Mountain View is a nature lover's paradise with stunning mountain views, outdoor recreation opportunities, and a laid-back atmosphere. Enjoy the beauty of the mountains in this cozy bungalow.\",\n",
       "   'neighborhood': 'Mountain View',\n",
       "   'price': 550000,\n",
       "   'size': 1200},\n",
       "  {'Unnamed: 0': 8,\n",
       "   'bathrooms': 3,\n",
       "   'bedrooms': 4,\n",
       "   'description': 'Stunning 4-bedroom, 3-bathroom beachfront home with panoramic ocean views. This luxurious house features a gourmet kitchen, a private beach access, and a rooftop deck for sunset views. Perfect for beach lovers.',\n",
       "   'neigh_description': 'Beachfront is a coveted neighborhood with exclusive beachfront properties, private beach access, and a relaxed coastal vibe. Live the beach lifestyle in this exquisite home.',\n",
       "   'neighborhood': 'Beachfront',\n",
       "   'price': 950000,\n",
       "   'size': 2800},\n",
       "  {'Unnamed: 0': 9,\n",
       "   'bathrooms': 2,\n",
       "   'bedrooms': 3,\n",
       "   'description': \"Charming 3-bedroom, 2-bathroom home in the historic Garden District. This renovated house features a chef's kitchen, a landscaped garden, and a covered porch. Close to museums and cultural attractions.\",\n",
       "   'neigh_description': 'Garden District is a cultural hub with historic homes, lush gardens, and a vibrant arts scene. Immerse yourself in the charm and history of this unique neighborhood in this lovely home.',\n",
       "   'neighborhood': 'Garden District',\n",
       "   'price': 500000,\n",
       "   'size': 1800}],\n",
       " 'documents': [\"Cozy 2-bedroom, 1-bathroom bungalow in the scenic neighborhood of Mountain View. This charming home features a sunroom, a landscaped garden, and a detached garage. Close to hiking trails and farmers' markets.\",\n",
       "  'Stunning 4-bedroom, 3-bathroom beachfront home with panoramic ocean views. This luxurious house features a gourmet kitchen, a private beach access, and a rooftop deck for sunset views. Perfect for beach lovers.',\n",
       "  \"Charming 3-bedroom, 2-bathroom home in the historic Garden District. This renovated house features a chef's kitchen, a landscaped garden, and a covered porch. Close to museums and cultural attractions.\"]}"
      ]
     },
     "execution_count": 12,
     "metadata": {},
     "output_type": "execute_result"
    }
   ],
   "source": [
    "#This function creates embeddings for textual data.\n",
    "def generate_embeddings(input_data: Union[str, list[str]]) -> np.ndarray:    \n",
    "    model = SentenceTransformer(MODEL_NAME)\n",
    "    embeddings = model.encode(input_data)\n",
    "    return embeddings\n",
    "\n",
    "for index, row in df.iterrows():\n",
    "    listing_id = str(index)  #Turn a listing's ID into a string.\n",
    "    description = row['description'] #Extract a listing's description.\n",
    "    embedding = generate_embeddings(description) #Embed the extracted description.\n",
    "    #Add the listing to the vector database.\n",
    "    collection.add(\n",
    "        documents=[description],\n",
    "        metadatas=[row.to_dict()],\n",
    "        ids=[listing_id],\n",
    "        embeddings=[embedding.tolist()]\n",
    "    )\n",
    "\n",
    "collection.get(ids=[\"7\", \"8\", \"9\"])"
   ]
  },
  {
   "cell_type": "markdown",
   "id": "64bbd9e1",
   "metadata": {},
   "source": [
    "# Step 4: Building the User Preference Interface."
   ]
  },
  {
   "cell_type": "code",
   "execution_count": 13,
   "id": "089bb976",
   "metadata": {},
   "outputs": [
    {
     "name": "stdout",
     "output_type": "stream",
     "text": [
      "Q: How big do you want your house to be?\n",
      "A: A comfortable three-bedroom house with a spacious kitchen and a cozy living room.\n",
      "Q: What are 3 most important things for you in choosing this property?\n",
      "A: A quiet neighborhood, good local schools, and convenient shopping options.\n",
      "Q: Which amenities would you like?\n",
      "A: A backyard for gardening, a two-car garage, and a modern, energy-efficient heating system.\n",
      "Q: Which transportation options are important to you?\n",
      "A: Easy access to a reliable bus line, proximity to a major highway, and bike-friendly roads.\n",
      "Q: How urban do you want your neighborhood to be?\n",
      "A: A balance between suburban tranquility and access to urban amenities like restaurants and theaters.\n"
     ]
    }
   ],
   "source": [
    "#Simulate the process of collecting user preferences by hard-coding.\n",
    "\n",
    "questions = [   \n",
    "                \"How big do you want your house to be?\",\n",
    "                \"What are 3 most important things for you in choosing this property?\",\n",
    "                \"Which amenities would you like?\",\n",
    "                \"Which transportation options are important to you?\",\n",
    "                \"How urban do you want your neighborhood to be?\"\n",
    "            ]\n",
    "\n",
    "answers = [\n",
    "    \"A comfortable three-bedroom house with a spacious kitchen and a cozy living room.\",\n",
    "    \"A quiet neighborhood, good local schools, and convenient shopping options.\",\n",
    "    \"A backyard for gardening, a two-car garage, and a modern, energy-efficient heating system.\",\n",
    "    \"Easy access to a reliable bus line, proximity to a major highway, and bike-friendly roads.\",\n",
    "    \"A balance between suburban tranquility and access to urban amenities like restaurants and theaters.\"\n",
    "            ]\n",
    "\n",
    "#Combine the provided questions and answers into a simulated conversation. List of dictionaries.\n",
    "simulation = [{\"question\": q, \"answer\": a} for q, a in zip(questions, answers)]\n",
    "\n",
    "#Convert the above list of dictionaries into one string.\n",
    "preference = \"\\n\".join([f\"Q: {item['question']}\\nA: {item['answer']}\" for item in simulation])\n",
    "print(preference)"
   ]
  },
  {
   "cell_type": "markdown",
   "id": "bb131749",
   "metadata": {},
   "source": [
    "# Step 5: Searching Based on Preferences."
   ]
  },
  {
   "cell_type": "code",
   "execution_count": 14,
   "id": "b7564736",
   "metadata": {},
   "outputs": [
    {
     "name": "stdout",
     "output_type": "stream",
     "text": [
      "=== Most Relevant Listing ===\n",
      "Description:\n",
      "Beautiful 4-bedroom, 3-bathroom home in the family-friendly neighborhood of Sunnyvale. This spacious house features a large backyard perfect for entertaining, as well as a modern kitchen with stainless steel appliances. Close to schools and parks.\n",
      "\n",
      "Metadata:\n",
      "Neighborhood: Sunnyvale\n",
      "Price: $500000\n",
      "Size: 2200 sqft\n",
      "Number of Bedrooms: 4\n",
      "Number of Bathrooms: 3\n",
      "\n",
      "\n",
      "Neighborhood Description:\n",
      "Sunnyvale is a family-friendly neighborhood with top-rated schools, parks, and community events. Enjoy the sunny weather and safe streets in this desirable area.\n"
     ]
    }
   ],
   "source": [
    "def retrieve(preference):\n",
    "    #Embed the user preferences.\n",
    "    embedding_of_preference = generate_embeddings(preference)\n",
    "\n",
    "    #Find the most relevant listing to the embedded user preferences in the database.\n",
    "    RElistings_retrieved = collection.query(\n",
    "        query_embeddings=embedding_of_preference.tolist(),\n",
    "        n_results=1  #This is necessary to identify the top listing and nothing else.\n",
    "    )\n",
    "\n",
    "    #Extract the key statistics from the retrieved listing.\n",
    "    metadata = RElistings_retrieved['metadatas'][0][0]\n",
    "    metadata_string = f\"Neighborhood: {metadata['neighborhood']}\\n\" \\\n",
    "                      f\"Price: ${metadata['price']}\\n\" \\\n",
    "                      f\"Size: {metadata['size']} sqft\\n\" \\\n",
    "                      f\"Number of Bedrooms: {metadata['bedrooms']}\\n\" \\\n",
    "                      f\"Number of Bathrooms: {metadata['bathrooms']}\\n\"\n",
    "\n",
    "\n",
    "    #Combine the key statistics with the property and neighborhood descriptions.\n",
    "    description = RElistings_retrieved['documents'][0][0]\n",
    "    neigh_description = metadata['neigh_description']\n",
    "    listing = f\"Description:\\n{description}\\n\\nMetadata:\\n{metadata_string}\\n\\nNeighborhood Description:\\n{neigh_description}\"\n",
    "    \n",
    "    return listing\n",
    "\n",
    "listing = retrieve(preference)\n",
    "print(\"=== Most Relevant Listing ===\")\n",
    "print(listing)"
   ]
  },
  {
   "cell_type": "markdown",
   "id": "14ff6388",
   "metadata": {},
   "source": [
    "# Step 6: Personalizing Listing Descriptions."
   ]
  },
  {
   "cell_type": "code",
   "execution_count": 15,
   "id": "d7fe573f",
   "metadata": {},
   "outputs": [
    {
     "name": "stdout",
     "output_type": "stream",
     "text": [
      "=== Most Relevant Listing and Instructions ===\n",
      "\n",
      "For the retrieved listing below, combine the description with the metadata and neighborhood description.\n",
      "\n",
      "---\n",
      "\n",
      "Context: \n",
      "\n",
      "Description:\n",
      "Beautiful 4-bedroom, 3-bathroom home in the family-friendly neighborhood of Sunnyvale. This spacious house features a large backyard perfect for entertaining, as well as a modern kitchen with stainless steel appliances. Close to schools and parks.\n",
      "\n",
      "Metadata:\n",
      "Neighborhood: Sunnyvale\n",
      "Price: $500000\n",
      "Size: 2200 sqft\n",
      "Number of Bedrooms: 4\n",
      "Number of Bathrooms: 3\n",
      "\n",
      "\n",
      "Neighborhood Description:\n",
      "Sunnyvale is a family-friendly neighborhood with top-rated schools, parks, and community events. Enjoy the sunny weather and safe streets in this desirable area.\n",
      "\n",
      "---\n",
      "\n",
      "Question:\n",
      "\n",
      "Augment the result by tailoring it to resonate with the buyer’s specific preferences.\n",
      "Subtly emphasize aspects of the property that align with what the buyer is looking for.\n",
      "The augmentation should personalize the listing without changing factual information, especially the numbers.\n",
      "\n",
      "---\n",
      "\n",
      "Answer:\n",
      "    \n"
     ]
    }
   ],
   "source": [
    "#Similar to step 5, find the most relevant listing to the embedded user preferences in the database. \n",
    "#Then, combine the retrieved listing with a personalization prompt.\n",
    "def create_prompt(preference):\n",
    "    \n",
    "    listing = retrieve(preference)\n",
    "    \n",
    "    prompt_template = \"\"\"\n",
    "For the retrieved listing below, combine the description with the metadata and neighborhood description.\n",
    "\n",
    "---\n",
    "\n",
    "Context: \n",
    "\n",
    "{}\n",
    "\n",
    "---\n",
    "\n",
    "Question:\n",
    "\n",
    "Augment the result by tailoring it to resonate with the buyer’s specific preferences.\n",
    "Subtly emphasize aspects of the property that align with what the buyer is looking for.\n",
    "The augmentation should personalize the listing without changing factual information, especially the numbers.\n",
    "\n",
    "---\n",
    "\n",
    "Answer:\n",
    "    \"\"\"\n",
    "    return prompt_template.format(listing)\n",
    "\n",
    "prompt_personal = create_prompt(preference)\n",
    "\n",
    "print(\"=== Most Relevant Listing and Instructions ===\")\n",
    "print(prompt_personal)"
   ]
  },
  {
   "cell_type": "code",
   "execution_count": 16,
   "id": "d8400a07",
   "metadata": {},
   "outputs": [
    {
     "name": "stdout",
     "output_type": "stream",
     "text": [
      "=== Most Relevant Listing (Augmented) ===\n",
      "Welcome to your dream home in the sought-after neighborhood of Sunnyvale! This beautiful 4-bedroom, 3-bathroom house is perfect for a growing family like yours. With a spacious 2200 sqft layout, a large backyard for entertaining, and a modern kitchen with stainless steel appliances, this home has everything you need. Imagine hosting family gatherings and BBQs in your own private oasis. And with top-rated schools and parks just a stone's throw away, your children will thrive in this family-friendly community. Don't miss out on the opportunity to make this house your forever home for the price of $500,000. Come experience the sunny weather and safe streets that make Sunnyvale the perfect place to call home.\n"
     ]
    }
   ],
   "source": [
    "#WARNING. You may need to run this cell a few times for the augmented response to update to match the provided preferences.\n",
    "\n",
    "#This is an instance of the LLMChain class. It connects LLMs with prompt templates to generate responses in a structured way.\n",
    "llm_chain = LLMChain(llm=llm, prompt=PromptTemplate.from_template(prompt_personal))\n",
    "\n",
    "#Implement the LLM chain to augment the retrieved listing that matches with the preferences specified by a user.\n",
    "personalized_listing = llm_chain.run(input=preference)\n",
    "\n",
    "print(\"=== Most Relevant Listing (Augmented) ===\")\n",
    "print(personalized_listing)"
   ]
  },
  {
   "cell_type": "markdown",
   "id": "c26aa5c3",
   "metadata": {},
   "source": [
    "# Step 7: Create new preferences to test the agent."
   ]
  },
  {
   "cell_type": "code",
   "execution_count": 18,
   "id": "da3ac7a7",
   "metadata": {},
   "outputs": [
    {
     "name": "stdout",
     "output_type": "stream",
     "text": [
      "=== Most Relevant Listing and Instructions ===\n",
      "\n",
      "For the retrieved listing below, combine the description with the metadata and neighborhood description.\n",
      "\n",
      "---\n",
      "\n",
      "Context: \n",
      "\n",
      "Description:\n",
      "Stunning 4-bedroom, 3-bathroom beachfront home with panoramic ocean views. This luxurious house features a gourmet kitchen, a private beach access, and a rooftop deck for sunset views. Perfect for beach lovers.\n",
      "\n",
      "Metadata:\n",
      "Neighborhood: Beachfront\n",
      "Price: $950000\n",
      "Size: 2800 sqft\n",
      "Number of Bedrooms: 4\n",
      "Number of Bathrooms: 3\n",
      "\n",
      "\n",
      "Neighborhood Description:\n",
      "Beachfront is a coveted neighborhood with exclusive beachfront properties, private beach access, and a relaxed coastal vibe. Live the beach lifestyle in this exquisite home.\n",
      "\n",
      "---\n",
      "\n",
      "Question:\n",
      "\n",
      "Augment the result by tailoring it to resonate with the buyer’s specific preferences.\n",
      "Subtly emphasize aspects of the property that align with what the buyer is looking for.\n",
      "The augmentation should personalize the listing without changing factual information, especially the numbers.\n",
      "\n",
      "---\n",
      "\n",
      "Answer:\n",
      "    \n",
      "=== Most Relevant Listing (Augmented) ===\n",
      "Imagine waking up every morning to the sound of waves crashing on the shore, stepping out onto your private beach access, and enjoying panoramic ocean views from your rooftop deck. This stunning 4-bedroom, 3-bathroom beachfront home is a dream come true for beach lovers like you. The gourmet kitchen is perfect for preparing meals to enjoy while watching the sunset over the water. With 2800 sqft of luxurious living space, this home offers the perfect blend of comfort and style. Live the beach lifestyle you've always wanted in this exclusive Beachfront neighborhood, where you can unwind in the relaxed coastal vibe and truly embrace seaside living. Don't miss out on the opportunity to make this exquisite home yours for $950,000.\n"
     ]
    }
   ],
   "source": [
    "#WARNING. You may need to run this cell a few times for the augmented response to update to match the provided preferences.\n",
    "\n",
    "llm_chain = LLMChain(llm=llm, prompt=PromptTemplate.from_template(prompt_personal))\n",
    "\n",
    "preference = \"I am looking for a luxurious property with beach access.\"\n",
    "\n",
    "prompt_personal = create_prompt(preference)\n",
    "print(\"=== Most Relevant Listing and Instructions ===\")\n",
    "print(prompt_personal)\n",
    "\n",
    "personalized_listing = llm_chain.run(input=preference)\n",
    "print(\"=== Most Relevant Listing (Augmented) ===\")\n",
    "print(personalized_listing)"
   ]
  },
  {
   "cell_type": "code",
   "execution_count": 20,
   "id": "eb6a9dc1",
   "metadata": {},
   "outputs": [
    {
     "name": "stdout",
     "output_type": "stream",
     "text": [
      "=== Most Relevant Listing and Instructions ===\n",
      "\n",
      "For the retrieved listing below, combine the description with the metadata and neighborhood description.\n",
      "\n",
      "---\n",
      "\n",
      "Context: \n",
      "\n",
      "Description:\n",
      "Charming 3-bedroom, 2-bathroom home in the historic Garden District. This renovated house features a chef's kitchen, a landscaped garden, and a covered porch. Close to museums and cultural attractions.\n",
      "\n",
      "Metadata:\n",
      "Neighborhood: Garden District\n",
      "Price: $500000\n",
      "Size: 1800 sqft\n",
      "Number of Bedrooms: 3\n",
      "Number of Bathrooms: 2\n",
      "\n",
      "\n",
      "Neighborhood Description:\n",
      "Garden District is a cultural hub with historic homes, lush gardens, and a vibrant arts scene. Immerse yourself in the charm and history of this unique neighborhood in this lovely home.\n",
      "\n",
      "---\n",
      "\n",
      "Question:\n",
      "\n",
      "Augment the result by tailoring it to resonate with the buyer’s specific preferences.\n",
      "Subtly emphasize aspects of the property that align with what the buyer is looking for.\n",
      "The augmentation should personalize the listing without changing factual information, especially the numbers.\n",
      "\n",
      "---\n",
      "\n",
      "Answer:\n",
      "    \n",
      "=== Most Relevant Listing (Augmented) ===\n",
      "Step into the charm and history of the Garden District with this delightful 3-bedroom, 2-bathroom home priced at $500,000. Nestled in this vibrant neighborhood, the renovated house boasts a chef's kitchen perfect for culinary enthusiasts, a landscaped garden for outdoor relaxation, and a covered porch for enjoying the Southern breeze. With 1800 sqft of space, this property offers a perfect blend of historic elegance and modern comfort. Immerse yourself in the cultural hub of the Garden District, surrounded by lush gardens and a vibrant arts scene. Don't miss the opportunity to make this lovely home your own.\n"
     ]
    }
   ],
   "source": [
    "#WARNING. You may need to run this cell a few times for the augmented response to update to match the provided preferences.\n",
    "\n",
    "llm_chain = LLMChain(llm=llm, prompt=PromptTemplate.from_template(prompt_personal))\n",
    "\n",
    "preference = \"I like fine art and want a property in a neighborhood full of galleries and museums.\"\n",
    "\n",
    "prompt_personal = create_prompt(preference)\n",
    "print(\"=== Most Relevant Listing and Instructions ===\")\n",
    "print(prompt_personal)\n",
    "\n",
    "personalized_listing = llm_chain.run(input=preference)\n",
    "print(\"=== Most Relevant Listing (Augmented) ===\")\n",
    "print(personalized_listing)"
   ]
  }
 ],
 "metadata": {
  "kernelspec": {
   "display_name": "Python 3 (ipykernel)",
   "language": "python",
   "name": "python3"
  },
  "language_info": {
   "codemirror_mode": {
    "name": "ipython",
    "version": 3
   },
   "file_extension": ".py",
   "mimetype": "text/x-python",
   "name": "python",
   "nbconvert_exporter": "python",
   "pygments_lexer": "ipython3",
   "version": "3.10.11"
  }
 },
 "nbformat": 4,
 "nbformat_minor": 5
}
