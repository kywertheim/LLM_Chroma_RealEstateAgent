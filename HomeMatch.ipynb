{
 "cells": [
  {
   "cell_type": "markdown",
   "id": "766c4cb7",
   "metadata": {},
   "source": [
    "# Step 1: Setting Up the Python Application."
   ]
  },
  {
   "cell_type": "code",
   "execution_count": 80,
   "id": "6554fd4c",
   "metadata": {},
   "outputs": [
    {
     "name": "stderr",
     "output_type": "stream",
     "text": [
      "huggingface/tokenizers: The current process just got forked, after parallelism has already been used. Disabling parallelism to avoid deadlocks...\n",
      "To disable this warning, you can either:\n",
      "\t- Avoid using `tokenizers` before the fork if possible\n",
      "\t- Explicitly set the environment variable TOKENIZERS_PARALLELISM=(true | false)\n"
     ]
    },
    {
     "name": "stdout",
     "output_type": "stream",
     "text": [
      "Defaulting to user installation because normal site-packages is not writeable\n",
      "Requirement already satisfied: pandas in /home/student/.local/lib/python3.10/site-packages (2.2.3)\n",
      "Requirement already satisfied: tzdata>=2022.7 in /home/student/.local/lib/python3.10/site-packages (from pandas) (2024.2)\n",
      "Requirement already satisfied: pytz>=2020.1 in /opt/conda/lib/python3.10/site-packages (from pandas) (2022.7)\n",
      "Requirement already satisfied: numpy>=1.22.4 in /opt/conda/lib/python3.10/site-packages (from pandas) (1.24.3)\n",
      "Requirement already satisfied: python-dateutil>=2.8.2 in /opt/conda/lib/python3.10/site-packages (from pandas) (2.9.0.post0)\n",
      "Requirement already satisfied: six>=1.5 in /opt/conda/lib/python3.10/site-packages (from python-dateutil>=2.8.2->pandas) (1.16.0)\n"
     ]
    },
    {
     "name": "stderr",
     "output_type": "stream",
     "text": [
      "huggingface/tokenizers: The current process just got forked, after parallelism has already been used. Disabling parallelism to avoid deadlocks...\n",
      "To disable this warning, you can either:\n",
      "\t- Avoid using `tokenizers` before the fork if possible\n",
      "\t- Explicitly set the environment variable TOKENIZERS_PARALLELISM=(true | false)\n"
     ]
    },
    {
     "name": "stdout",
     "output_type": "stream",
     "text": [
      "Defaulting to user installation because normal site-packages is not writeable\n",
      "Requirement already satisfied: chromadb in /opt/conda/lib/python3.10/site-packages (0.4.12)\n",
      "Requirement already satisfied: bcrypt>=4.0.1 in /opt/conda/lib/python3.10/site-packages (from chromadb) (4.1.3)\n",
      "Requirement already satisfied: pulsar-client>=3.1.0 in /opt/conda/lib/python3.10/site-packages (from chromadb) (3.5.0)\n",
      "Requirement already satisfied: requests>=2.28 in /opt/conda/lib/python3.10/site-packages (from chromadb) (2.29.0)\n",
      "Requirement already satisfied: typing-extensions>=4.5.0 in /opt/conda/lib/python3.10/site-packages (from chromadb) (4.11.0)\n",
      "Requirement already satisfied: pypika>=0.48.9 in /opt/conda/lib/python3.10/site-packages (from chromadb) (0.48.9)\n",
      "Requirement already satisfied: uvicorn[standard]>=0.18.3 in /opt/conda/lib/python3.10/site-packages (from chromadb) (0.29.0)\n",
      "Requirement already satisfied: tqdm>=4.65.0 in /opt/conda/lib/python3.10/site-packages (from chromadb) (4.65.0)\n",
      "Requirement already satisfied: overrides>=7.3.1 in /opt/conda/lib/python3.10/site-packages (from chromadb) (7.7.0)\n",
      "Requirement already satisfied: tokenizers>=0.13.2 in /home/student/.local/lib/python3.10/site-packages (from chromadb) (0.15.2)\n",
      "Requirement already satisfied: fastapi<0.100.0,>=0.95.2 in /opt/conda/lib/python3.10/site-packages (from chromadb) (0.99.1)\n",
      "Requirement already satisfied: numpy>=1.22.5 in /opt/conda/lib/python3.10/site-packages (from chromadb) (1.24.3)\n",
      "Requirement already satisfied: typer>=0.9.0 in /opt/conda/lib/python3.10/site-packages (from chromadb) (0.12.3)\n",
      "Requirement already satisfied: pydantic<2.0,>=1.9 in /opt/conda/lib/python3.10/site-packages (from chromadb) (1.10.12)\n",
      "Requirement already satisfied: importlib-resources in /opt/conda/lib/python3.10/site-packages (from chromadb) (6.4.0)\n",
      "Requirement already satisfied: onnxruntime>=1.14.1 in /opt/conda/lib/python3.10/site-packages (from chromadb) (1.18.0)\n",
      "Requirement already satisfied: chroma-hnswlib==0.7.3 in /opt/conda/lib/python3.10/site-packages (from chromadb) (0.7.3)\n",
      "Requirement already satisfied: posthog>=2.4.0 in /opt/conda/lib/python3.10/site-packages (from chromadb) (3.5.0)\n",
      "Requirement already satisfied: starlette<0.28.0,>=0.27.0 in /opt/conda/lib/python3.10/site-packages (from fastapi<0.100.0,>=0.95.2->chromadb) (0.27.0)\n",
      "Requirement already satisfied: packaging in /opt/conda/lib/python3.10/site-packages (from onnxruntime>=1.14.1->chromadb) (23.0)\n",
      "Requirement already satisfied: protobuf in /opt/conda/lib/python3.10/site-packages (from onnxruntime>=1.14.1->chromadb) (5.26.1)\n",
      "Requirement already satisfied: flatbuffers in /opt/conda/lib/python3.10/site-packages (from onnxruntime>=1.14.1->chromadb) (24.3.25)\n",
      "Requirement already satisfied: sympy in /opt/conda/lib/python3.10/site-packages (from onnxruntime>=1.14.1->chromadb) (1.12)\n",
      "Requirement already satisfied: coloredlogs in /opt/conda/lib/python3.10/site-packages (from onnxruntime>=1.14.1->chromadb) (15.0.1)\n",
      "Requirement already satisfied: monotonic>=1.5 in /opt/conda/lib/python3.10/site-packages (from posthog>=2.4.0->chromadb) (1.6)\n",
      "Requirement already satisfied: python-dateutil>2.1 in /opt/conda/lib/python3.10/site-packages (from posthog>=2.4.0->chromadb) (2.9.0.post0)\n",
      "Requirement already satisfied: backoff>=1.10.0 in /opt/conda/lib/python3.10/site-packages (from posthog>=2.4.0->chromadb) (2.2.1)\n",
      "Requirement already satisfied: six>=1.5 in /opt/conda/lib/python3.10/site-packages (from posthog>=2.4.0->chromadb) (1.16.0)\n",
      "Requirement already satisfied: certifi in /opt/conda/lib/python3.10/site-packages (from pulsar-client>=3.1.0->chromadb) (2023.5.7)\n",
      "Requirement already satisfied: charset-normalizer<4,>=2 in /opt/conda/lib/python3.10/site-packages (from requests>=2.28->chromadb) (2.0.4)\n",
      "Requirement already satisfied: urllib3<1.27,>=1.21.1 in /opt/conda/lib/python3.10/site-packages (from requests>=2.28->chromadb) (1.26.15)\n",
      "Requirement already satisfied: idna<4,>=2.5 in /opt/conda/lib/python3.10/site-packages (from requests>=2.28->chromadb) (3.4)\n",
      "Requirement already satisfied: huggingface_hub<1.0,>=0.16.4 in /opt/conda/lib/python3.10/site-packages (from tokenizers>=0.13.2->chromadb) (0.23.0)\n",
      "Requirement already satisfied: click>=8.0.0 in /opt/conda/lib/python3.10/site-packages (from typer>=0.9.0->chromadb) (8.1.7)\n",
      "Requirement already satisfied: shellingham>=1.3.0 in /opt/conda/lib/python3.10/site-packages (from typer>=0.9.0->chromadb) (1.5.4)\n",
      "Requirement already satisfied: rich>=10.11.0 in /opt/conda/lib/python3.10/site-packages (from typer>=0.9.0->chromadb) (13.7.1)\n",
      "Requirement already satisfied: h11>=0.8 in /opt/conda/lib/python3.10/site-packages (from uvicorn[standard]>=0.18.3->chromadb) (0.14.0)\n",
      "Requirement already satisfied: websockets>=10.4 in /opt/conda/lib/python3.10/site-packages (from uvicorn[standard]>=0.18.3->chromadb) (12.0)\n",
      "Requirement already satisfied: watchfiles>=0.13 in /opt/conda/lib/python3.10/site-packages (from uvicorn[standard]>=0.18.3->chromadb) (0.21.0)\n",
      "Requirement already satisfied: uvloop!=0.15.0,!=0.15.1,>=0.14.0 in /opt/conda/lib/python3.10/site-packages (from uvicorn[standard]>=0.18.3->chromadb) (0.19.0)\n",
      "Requirement already satisfied: pyyaml>=5.1 in /opt/conda/lib/python3.10/site-packages (from uvicorn[standard]>=0.18.3->chromadb) (6.0)\n",
      "Requirement already satisfied: python-dotenv>=0.13 in /opt/conda/lib/python3.10/site-packages (from uvicorn[standard]>=0.18.3->chromadb) (1.0.1)\n",
      "Requirement already satisfied: httptools>=0.5.0 in /opt/conda/lib/python3.10/site-packages (from uvicorn[standard]>=0.18.3->chromadb) (0.6.1)\n",
      "Requirement already satisfied: filelock in /opt/conda/lib/python3.10/site-packages (from huggingface_hub<1.0,>=0.16.4->tokenizers>=0.13.2->chromadb) (3.9.0)\n",
      "Requirement already satisfied: fsspec>=2023.5.0 in /opt/conda/lib/python3.10/site-packages (from huggingface_hub<1.0,>=0.16.4->tokenizers>=0.13.2->chromadb) (2024.5.0)\n",
      "Requirement already satisfied: markdown-it-py>=2.2.0 in /opt/conda/lib/python3.10/site-packages (from rich>=10.11.0->typer>=0.9.0->chromadb) (3.0.0)\n",
      "Requirement already satisfied: pygments<3.0.0,>=2.13.0 in /opt/conda/lib/python3.10/site-packages (from rich>=10.11.0->typer>=0.9.0->chromadb) (2.15.1)\n",
      "Requirement already satisfied: anyio<5,>=3.4.0 in /opt/conda/lib/python3.10/site-packages (from starlette<0.28.0,>=0.27.0->fastapi<0.100.0,>=0.95.2->chromadb) (3.7.1)\n",
      "Requirement already satisfied: humanfriendly>=9.1 in /opt/conda/lib/python3.10/site-packages (from coloredlogs->onnxruntime>=1.14.1->chromadb) (10.0)\n",
      "Requirement already satisfied: mpmath>=0.19 in /opt/conda/lib/python3.10/site-packages (from sympy->onnxruntime>=1.14.1->chromadb) (1.3.0)\n",
      "Requirement already satisfied: exceptiongroup in /opt/conda/lib/python3.10/site-packages (from anyio<5,>=3.4.0->starlette<0.28.0,>=0.27.0->fastapi<0.100.0,>=0.95.2->chromadb) (1.1.1)\n",
      "Requirement already satisfied: sniffio>=1.1 in /opt/conda/lib/python3.10/site-packages (from anyio<5,>=3.4.0->starlette<0.28.0,>=0.27.0->fastapi<0.100.0,>=0.95.2->chromadb) (1.3.1)\n",
      "Requirement already satisfied: mdurl~=0.1 in /opt/conda/lib/python3.10/site-packages (from markdown-it-py>=2.2.0->rich>=10.11.0->typer>=0.9.0->chromadb) (0.1.2)\n"
     ]
    },
    {
     "name": "stderr",
     "output_type": "stream",
     "text": [
      "huggingface/tokenizers: The current process just got forked, after parallelism has already been used. Disabling parallelism to avoid deadlocks...\n",
      "To disable this warning, you can either:\n",
      "\t- Avoid using `tokenizers` before the fork if possible\n",
      "\t- Explicitly set the environment variable TOKENIZERS_PARALLELISM=(true | false)\n",
      "huggingface/tokenizers: The current process just got forked, after parallelism has already been used. Disabling parallelism to avoid deadlocks...\n",
      "To disable this warning, you can either:\n",
      "\t- Avoid using `tokenizers` before the fork if possible\n",
      "\t- Explicitly set the environment variable TOKENIZERS_PARALLELISM=(true | false)\n"
     ]
    },
    {
     "name": "stdout",
     "output_type": "stream",
     "text": [
      "sentence-transformers==2.5.1\r\n",
      "transformers==4.36.0\r\n"
     ]
    }
   ],
   "source": [
    "#Install libraries.\n",
    "!pip install pandas\n",
    "!pip install chromadb\n",
    "!pip install -U --quiet sentence-transformers==2.5.1 transformers==4.36.0 \n",
    "!pip freeze | grep transformers"
   ]
  },
  {
   "cell_type": "code",
   "execution_count": 81,
   "id": "406af26e",
   "metadata": {},
   "outputs": [],
   "source": [
    "#Import libraries.\n",
    "import os\n",
    "import pandas as pd\n",
    "import numpy as np\n",
    "from langchain.llms import OpenAI\n",
    "from langchain.prompts import PromptTemplate\n",
    "from langchain.prompts.few_shot import FewShotPromptTemplate\n",
    "from langchain.output_parsers import PydanticOutputParser\n",
    "from langchain.chains import LLMChain\n",
    "from pydantic import BaseModel\n",
    "from typing import List\n",
    "from typing import Union\n",
    "from fastapi.encoders import jsonable_encoder\n",
    "import chromadb\n",
    "from chromadb.config import Settings\n",
    "from sentence_transformers import SentenceTransformer"
   ]
  },
  {
   "cell_type": "code",
   "execution_count": 82,
   "id": "91e93565",
   "metadata": {},
   "outputs": [],
   "source": [
    "#Access OpenAI API. Replace the empty string with your own API key.\n",
    "os.environ[\"OPENAI_API_BASE\"] = \"https://openai.vocareum.com/v1\"\n",
    "os.environ[\"OPENAI_API_KEY\"] = \"voc-521589269126677343067966c0bdbc647de7.54391014\""
   ]
  },
  {
   "cell_type": "markdown",
   "id": "fa9cbd57",
   "metadata": {},
   "source": [
    "# Step 2: Generating Real Estate Listings."
   ]
  },
  {
   "cell_type": "code",
   "execution_count": 83,
   "id": "6ad65137",
   "metadata": {},
   "outputs": [],
   "source": [
    "#Apply few-shot prompting to generate real estate listings with an LLM.\n",
    "#This is the template for one example.\n",
    "example_template = PromptTemplate(input_variables=[\"listing\", \"description\", \"neighborhood\"], \n",
    "                                template=\"{listing}\\n{description}\\n{neighborhood}\")\n",
    "\n",
    "#Example one.\n",
    "listing1 = \"\"\"\n",
    "Neighborhood: Green Oaks\n",
    "Price: $800,000\n",
    "Bedrooms: 3\n",
    "Bathrooms: 2\n",
    "House Size: 2,000 sqft\n",
    "\"\"\"\n",
    "\n",
    "description1 = \"\"\"\n",
    "Description: Welcome to this eco-friendly oasis nestled in the heart of Green Oaks. This charming 3-bedroom, 2-bathroom home boasts energy-efficient features such as solar panels and a well-insulated structure. Natural light floods the living spaces, highlighting the beautiful hardwood floors and eco-conscious finishes. The open-concept kitchen and dining area lead to a spacious backyard with a vegetable garden, perfect for the eco-conscious family. Embrace sustainable living without compromising on style in this Green Oaks gem.\n",
    "\"\"\"\n",
    "\n",
    "neighborhood1 = \"\"\"\n",
    "Neighborhood Description: Green Oaks is a close-knit, environmentally-conscious community with access to organic grocery stores, community gardens, and bike paths. Take a stroll through the nearby Green Oaks Park or grab a cup of coffee at the cozy Green Bean Cafe. With easy access to public transportation and bike lanes, commuting is a breeze.\n",
    "\"\"\"\n",
    "\n",
    "#Example two.\n",
    "listing2 = \"\"\"\n",
    "Neighborhood: Newland\n",
    "Price: $150,000\n",
    "Bedrooms: 3\n",
    "Bathrooms: 2\n",
    "House Size: 2,500 sqft\n",
    "\"\"\"\n",
    "\n",
    "description2 = \"\"\"\n",
    "Description: You'd love this spacious (2,500 sqft) three-bedroom house in the Bohemian neighborhood of Newland. For the low price of $150,000, you can purchase this stylish house with two modern bathrooms. Multiple residents have died violently in the kitchen, including a father who was stabbed by his own daughter. If you die next, please replace the washing machine.\n",
    "\"\"\"\n",
    "\n",
    "neighborhood2 = \"\"\"\n",
    "Neighborhood Description: Newland is a Bohemian, vibrant, and ethnically diverse region. The community is full of stupid and violent people. Easy access to drugs, gangs, and toilets. Take a piss in the nearby cemetery or vandalise in the Tesco. Crime rates are high. You should move here so that you can get into trouble.\n",
    "\"\"\"\n",
    "\n",
    "#Combine the two examples.\n",
    "examples = [ \n",
    "    {\n",
    "        \"listing\": listing1,\n",
    "        \"description\": description1,\n",
    "        \"neighborhood\": neighborhood1\n",
    "    },\n",
    "    {\n",
    "        \"listing\": listing2,\n",
    "        \"description\": description2,\n",
    "        \"neighborhood\": neighborhood2\n",
    "    }    \n",
    "]"
   ]
  },
  {
   "cell_type": "code",
   "execution_count": 84,
   "id": "1081de66",
   "metadata": {},
   "outputs": [],
   "source": [
    "#This is the query that will become the final part of the prompt.\n",
    "instruction = \"\"\"\n",
    "Generate 10 diverse and realistic real estate listings containing facts about the real estate.\n",
    "\"\"\""
   ]
  },
  {
   "cell_type": "code",
   "execution_count": 85,
   "id": "92327523",
   "metadata": {},
   "outputs": [],
   "source": [
    "#Pydantic model that defines the schema for a single RE listing.\n",
    "class Listing(BaseModel):\n",
    "    neighborhood: str\n",
    "    price: int\n",
    "    bedrooms: int\n",
    "    bathrooms: int\n",
    "    size: int\n",
    "    description: str\n",
    "    neigh_description: str\n",
    "\n",
    "#Pydantic model that defines a list of RE listings (instances of class Listing).\n",
    "class ListingCollection(BaseModel):\n",
    "    listings: List[Listing]\n",
    "        \n",
    "#The parser parses the LLM's output (10 RE listings) into a structured Python object (instance of class ListingCollection).\n",
    "parser = PydanticOutputParser(pydantic_object=ListingCollection)"
   ]
  },
  {
   "cell_type": "code",
   "execution_count": 86,
   "id": "bb88f742",
   "metadata": {},
   "outputs": [
    {
     "name": "stdout",
     "output_type": "stream",
     "text": [
      "=== Real Estate Listings Prompt ===\n",
      "\n",
      "Neighborhood: Green Oaks\n",
      "Price: $800,000\n",
      "Bedrooms: 3\n",
      "Bathrooms: 2\n",
      "House Size: 2,000 sqft\n",
      "\n",
      "\n",
      "Description: Welcome to this eco-friendly oasis nestled in the heart of Green Oaks. This charming 3-bedroom, 2-bathroom home boasts energy-efficient features such as solar panels and a well-insulated structure. Natural light floods the living spaces, highlighting the beautiful hardwood floors and eco-conscious finishes. The open-concept kitchen and dining area lead to a spacious backyard with a vegetable garden, perfect for the eco-conscious family. Embrace sustainable living without compromising on style in this Green Oaks gem.\n",
      "\n",
      "\n",
      "Neighborhood Description: Green Oaks is a close-knit, environmentally-conscious community with access to organic grocery stores, community gardens, and bike paths. Take a stroll through the nearby Green Oaks Park or grab a cup of coffee at the cozy Green Bean Cafe. With easy access to public transportation and bike lanes, commuting is a breeze.\n",
      "\n",
      "\n",
      "\n",
      "Neighborhood: Newland\n",
      "Price: $150,000\n",
      "Bedrooms: 3\n",
      "Bathrooms: 2\n",
      "House Size: 2,500 sqft\n",
      "\n",
      "\n",
      "Description: You'd love this spacious (2,500 sqft) three-bedroom house in the Bohemian neighborhood of Newland. For the low price of $150,000, you can purchase this stylish house with two modern bathrooms. Multiple residents have died violently in the kitchen, including a father who was stabbed by his own daughter. If you die next, please replace the washing machine.\n",
      "\n",
      "\n",
      "Neighborhood Description: Newland is a Bohemian, vibrant, and ethnically diverse region. The community is full of stupid and violent people. Easy access to drugs, gangs, and toilets. Take a piss in the nearby cemetery or vandalise in the Tesco. Crime rates are high. You should move here so that you can get into trouble.\n",
      "\n",
      "\n",
      "Use these examples to generate a response to the problem below: \n",
      "\n",
      "\n",
      "Generate 10 diverse and realistic real estate listings containing facts about the real estate.\n",
      "\n",
      "\n",
      "The output should be formatted as a JSON instance that conforms to the JSON schema below.\n",
      "\n",
      "As an example, for the schema {\"properties\": {\"foo\": {\"title\": \"Foo\", \"description\": \"a list of strings\", \"type\": \"array\", \"items\": {\"type\": \"string\"}}}, \"required\": [\"foo\"]}\n",
      "the object {\"foo\": [\"bar\", \"baz\"]} is a well-formatted instance of the schema. The object {\"properties\": {\"foo\": [\"bar\", \"baz\"]}} is not well-formatted.\n",
      "\n",
      "Here is the output schema:\n",
      "```\n",
      "{\"properties\": {\"listings\": {\"title\": \"Listings\", \"type\": \"array\", \"items\": {\"$ref\": \"#/definitions/Listing\"}}}, \"required\": [\"listings\"], \"definitions\": {\"Listing\": {\"title\": \"Listing\", \"type\": \"object\", \"properties\": {\"neighborhood\": {\"title\": \"Neighborhood\", \"type\": \"string\"}, \"price\": {\"title\": \"Price\", \"type\": \"integer\"}, \"bedrooms\": {\"title\": \"Bedrooms\", \"type\": \"integer\"}, \"bathrooms\": {\"title\": \"Bathrooms\", \"type\": \"integer\"}, \"size\": {\"title\": \"Size\", \"type\": \"integer\"}, \"description\": {\"title\": \"Description\", \"type\": \"string\"}, \"neigh_description\": {\"title\": \"Neigh Description\", \"type\": \"string\"}}, \"required\": [\"neighborhood\", \"price\", \"bedrooms\", \"bathrooms\", \"size\", \"description\", \"neigh_description\"]}}}\n",
      "```\n"
     ]
    }
   ],
   "source": [
    "#Combine different parts into a single prompt.\n",
    "prompt = FewShotPromptTemplate(\n",
    "    examples=examples, \n",
    "    example_prompt=example_template, \n",
    "    suffix=\"Use these examples to generate a response to the problem below: \\n\\n{input}\\n\\n{format_instructions}\", \n",
    "    input_variables=[\"input\"],\n",
    "    partial_variables={\"format_instructions\": parser.get_format_instructions()}\n",
    ")\n",
    "prompt_text = prompt.format(input=instruction)\n",
    "print(\"=== Real Estate Listings Prompt ===\")\n",
    "print(prompt_text)"
   ]
  },
  {
   "cell_type": "code",
   "execution_count": 87,
   "id": "c4be776a",
   "metadata": {},
   "outputs": [
    {
     "name": "stderr",
     "output_type": "stream",
     "text": [
      "/opt/conda/lib/python3.10/site-packages/langchain/llms/openai.py:202: UserWarning: You are trying to use a chat model. This way of initializing it is no longer supported. Instead, please use: `from langchain.chat_models import ChatOpenAI`\n",
      "  warnings.warn(\n",
      "/opt/conda/lib/python3.10/site-packages/langchain/llms/openai.py:790: UserWarning: You are trying to use a chat model. This way of initializing it is no longer supported. Instead, please use: `from langchain.chat_models import ChatOpenAI`\n",
      "  warnings.warn(\n"
     ]
    }
   ],
   "source": [
    "#Pass the prompt to an LLM to get a response.\n",
    "model_name = \"gpt-3.5-turbo\"\n",
    "temperature = 0.3\n",
    "llm = OpenAI(model_name=model_name, temperature=temperature, max_tokens = 2000)\n",
    "RElistings_LLM = llm(prompt_text)"
   ]
  },
  {
   "cell_type": "code",
   "execution_count": 88,
   "id": "19bccb5e",
   "metadata": {},
   "outputs": [
    {
     "data": {
      "text/plain": [
       "[Listing(neighborhood='Sunnyvale', price=500000, bedrooms=4, bathrooms=3, size=2200, description='Beautiful 4-bedroom, 3-bathroom home in the family-friendly neighborhood of Sunnyvale. This spacious house features a large backyard perfect for entertaining, as well as a cozy fireplace in the living room.', neigh_description='Sunnyvale is known for its top-rated schools, safe streets, and friendly neighbors. Enjoy easy access to parks, shopping centers, and restaurants in this desirable community.'),\n",
       " Listing(neighborhood='Downtown Loft District', price=700000, bedrooms=2, bathrooms=2, size=1800, description='Modern 2-bedroom, 2-bathroom loft in the heart of the Downtown Loft District. This industrial-style unit features exposed brick walls, high ceilings, and a rooftop deck with city views.', neigh_description='Live in the center of the action with easy access to trendy restaurants, art galleries, and nightlife. Walk to work or take public transportation from this vibrant urban neighborhood.'),\n",
       " Listing(neighborhood='Lakefront Estates', price=1200000, bedrooms=5, bathrooms=4, size=3500, description='Luxurious 5-bedroom, 4-bathroom estate on the shores of Lakefront Estates. This custom-built home features a gourmet kitchen, private dock, and breathtaking lake views.', neigh_description='Experience waterfront living at its finest in this exclusive gated community. Enjoy boating, fishing, and relaxing by the lake in this prestigious neighborhood.'),\n",
       " Listing(neighborhood='Historic Old Town', price=300000, bedrooms=2, bathrooms=1, size=1500, description='Charming 2-bedroom, 1-bathroom cottage in the historic Old Town neighborhood. This cozy home boasts original hardwood floors, a clawfoot tub, and a quaint front porch.', neigh_description='Step back in time in this picturesque neighborhood filled with historic homes, tree-lined streets, and local boutiques. Enjoy a slower pace of life in this well-preserved community.'),\n",
       " Listing(neighborhood='Mountain View Heights', price=850000, bedrooms=3, bathrooms=2, size=2000, description='Inviting 3-bedroom, 2-bathroom home in the desirable Mountain View Heights neighborhood. This updated house features a remodeled kitchen, hardwood floors, and a landscaped backyard.', neigh_description='Live close to nature with hiking trails, parks, and scenic views in Mountain View Heights. Enjoy a peaceful setting while still being just a short drive away from city amenities.'),\n",
       " Listing(neighborhood='Waterfront Marina', price=1000000, bedrooms=4, bathrooms=3, size=2800, description='Stunning 4-bedroom, 3-bathroom home in the exclusive Waterfront Marina community. This waterfront property features a private boat dock, gourmet kitchen, and panoramic ocean views.', neigh_description='Experience luxury coastal living in this prestigious marina neighborhood. Enjoy boating, water sports, and seaside dining in this upscale waterfront community.'),\n",
       " Listing(neighborhood='Hillside Retreat', price=600000, bedrooms=3, bathrooms=2, size=1900, description='Tranquil 3-bedroom, 2-bathroom retreat in the peaceful Hillside Retreat neighborhood. This secluded home features a wrap-around deck, mountain views, and a hot tub for relaxation.', neigh_description='Escape the hustle and bustle in this serene hillside community surrounded by nature. Enjoy hiking, bird-watching, and star-gazing in this idyllic mountain retreat.'),\n",
       " Listing(neighborhood='Downtown Arts District', price=400000, bedrooms=1, bathrooms=1, size=1000, description='Artistic 1-bedroom, 1-bathroom loft in the vibrant Downtown Arts District. This creative space features exposed ductwork, concrete floors, and a gallery wall for showcasing artwork.', neigh_description='Immerse yourself in the arts scene with galleries, theaters, and studios just steps away in the Downtown Arts District. Live among fellow artists and creatives in this dynamic urban neighborhood.'),\n",
       " Listing(neighborhood='Suburban Meadows', price=450000, bedrooms=3, bathrooms=2, size=1600, description='Cozy 3-bedroom, 2-bathroom home in the family-friendly Suburban Meadows neighborhood. This well-maintained house features a fenced backyard, updated appliances, and a two-car garage.', neigh_description='Settle down in this quiet suburban community with parks, schools, and shopping centers nearby. Enjoy a safe and welcoming environment for families in Suburban Meadows.'),\n",
       " Listing(neighborhood='Riverside Estates', price=750000, bedrooms=4, bathrooms=3, size=2300, description='Spacious 4-bedroom, 3-bathroom home in the prestigious Riverside Estates neighborhood. This elegant house boasts a grand foyer, formal dining room, and landscaped gardens.', neigh_description='Live in luxury along the riverfront in Riverside Estates, where upscale homes and manicured lawns define the neighborhood. Enjoy a peaceful setting with easy access to dining and entertainment options.')]"
      ]
     },
     "execution_count": 88,
     "metadata": {},
     "output_type": "execute_result"
    }
   ],
   "source": [
    "#Parse the LLM's responses into the schema defined in Listing and store parsed responses in a list.\n",
    "result = parser.parse(RElistings_LLM)\n",
    "result.listings"
   ]
  },
  {
   "cell_type": "code",
   "execution_count": 89,
   "id": "8af0727b",
   "metadata": {},
   "outputs": [
    {
     "data": {
      "text/html": [
       "<div>\n",
       "<style scoped>\n",
       "    .dataframe tbody tr th:only-of-type {\n",
       "        vertical-align: middle;\n",
       "    }\n",
       "\n",
       "    .dataframe tbody tr th {\n",
       "        vertical-align: top;\n",
       "    }\n",
       "\n",
       "    .dataframe thead th {\n",
       "        text-align: right;\n",
       "    }\n",
       "</style>\n",
       "<table border=\"1\" class=\"dataframe\">\n",
       "  <thead>\n",
       "    <tr style=\"text-align: right;\">\n",
       "      <th></th>\n",
       "      <th>neighborhood</th>\n",
       "      <th>price</th>\n",
       "      <th>bedrooms</th>\n",
       "      <th>bathrooms</th>\n",
       "      <th>size</th>\n",
       "      <th>description</th>\n",
       "      <th>neigh_description</th>\n",
       "    </tr>\n",
       "  </thead>\n",
       "  <tbody>\n",
       "    <tr>\n",
       "      <th>0</th>\n",
       "      <td>Sunnyvale</td>\n",
       "      <td>500000</td>\n",
       "      <td>4</td>\n",
       "      <td>3</td>\n",
       "      <td>2200</td>\n",
       "      <td>Beautiful 4-bedroom, 3-bathroom home in the fa...</td>\n",
       "      <td>Sunnyvale is known for its top-rated schools, ...</td>\n",
       "    </tr>\n",
       "    <tr>\n",
       "      <th>1</th>\n",
       "      <td>Downtown Loft District</td>\n",
       "      <td>700000</td>\n",
       "      <td>2</td>\n",
       "      <td>2</td>\n",
       "      <td>1800</td>\n",
       "      <td>Modern 2-bedroom, 2-bathroom loft in the heart...</td>\n",
       "      <td>Live in the center of the action with easy acc...</td>\n",
       "    </tr>\n",
       "    <tr>\n",
       "      <th>2</th>\n",
       "      <td>Lakefront Estates</td>\n",
       "      <td>1200000</td>\n",
       "      <td>5</td>\n",
       "      <td>4</td>\n",
       "      <td>3500</td>\n",
       "      <td>Luxurious 5-bedroom, 4-bathroom estate on the ...</td>\n",
       "      <td>Experience waterfront living at its finest in ...</td>\n",
       "    </tr>\n",
       "    <tr>\n",
       "      <th>3</th>\n",
       "      <td>Historic Old Town</td>\n",
       "      <td>300000</td>\n",
       "      <td>2</td>\n",
       "      <td>1</td>\n",
       "      <td>1500</td>\n",
       "      <td>Charming 2-bedroom, 1-bathroom cottage in the ...</td>\n",
       "      <td>Step back in time in this picturesque neighbor...</td>\n",
       "    </tr>\n",
       "    <tr>\n",
       "      <th>4</th>\n",
       "      <td>Mountain View Heights</td>\n",
       "      <td>850000</td>\n",
       "      <td>3</td>\n",
       "      <td>2</td>\n",
       "      <td>2000</td>\n",
       "      <td>Inviting 3-bedroom, 2-bathroom home in the des...</td>\n",
       "      <td>Live close to nature with hiking trails, parks...</td>\n",
       "    </tr>\n",
       "  </tbody>\n",
       "</table>\n",
       "</div>"
      ],
      "text/plain": [
       "             neighborhood    price  bedrooms  bathrooms  size  \\\n",
       "0               Sunnyvale   500000         4          3  2200   \n",
       "1  Downtown Loft District   700000         2          2  1800   \n",
       "2       Lakefront Estates  1200000         5          4  3500   \n",
       "3       Historic Old Town   300000         2          1  1500   \n",
       "4   Mountain View Heights   850000         3          2  2000   \n",
       "\n",
       "                                         description  \\\n",
       "0  Beautiful 4-bedroom, 3-bathroom home in the fa...   \n",
       "1  Modern 2-bedroom, 2-bathroom loft in the heart...   \n",
       "2  Luxurious 5-bedroom, 4-bathroom estate on the ...   \n",
       "3  Charming 2-bedroom, 1-bathroom cottage in the ...   \n",
       "4  Inviting 3-bedroom, 2-bathroom home in the des...   \n",
       "\n",
       "                                   neigh_description  \n",
       "0  Sunnyvale is known for its top-rated schools, ...  \n",
       "1  Live in the center of the action with easy acc...  \n",
       "2  Experience waterfront living at its finest in ...  \n",
       "3  Step back in time in this picturesque neighbor...  \n",
       "4  Live close to nature with hiking trails, parks...  "
      ]
     },
     "execution_count": 89,
     "metadata": {},
     "output_type": "execute_result"
    }
   ],
   "source": [
    "#Store the LLM-generated listings in a dataframe.\n",
    "df = pd.DataFrame(jsonable_encoder(result.listings))\n",
    "df.to_csv('RElistings_LLM.csv')\n",
    "df.head()"
   ]
  },
  {
   "cell_type": "markdown",
   "id": "839b58f9",
   "metadata": {},
   "source": [
    "# Step 3: Storing Listings in a Vector Database."
   ]
  },
  {
   "cell_type": "code",
   "execution_count": 92,
   "id": "ad054f10",
   "metadata": {},
   "outputs": [],
   "source": [
    "#Create a vector database.\n",
    "client = chromadb.Client(Settings(persist_directory=\"./database\"))\n",
    "collection = client.create_collection(\"RElistings_db\")"
   ]
  },
  {
   "cell_type": "code",
   "execution_count": 93,
   "id": "91191c4d",
   "metadata": {},
   "outputs": [],
   "source": [
    "#Select an embedding model and load the dataframe with 10 listings.\n",
    "MODEL_NAME = 'paraphrase-MiniLM-L6-v2'\n",
    "df = pd.read_csv(\"RElistings_LLM.csv\")"
   ]
  },
  {
   "cell_type": "code",
   "execution_count": 94,
   "id": "616e609d",
   "metadata": {},
   "outputs": [
    {
     "name": "stderr",
     "output_type": "stream",
     "text": [
      "/opt/conda/lib/python3.10/site-packages/huggingface_hub/file_download.py:1132: FutureWarning: `resume_download` is deprecated and will be removed in version 1.0.0. Downloads always resume when possible. If you want to force a new download, use `force_download=True`.\n",
      "  warnings.warn(\n"
     ]
    },
    {
     "data": {
      "text/plain": [
       "{'ids': ['7', '8', '9'],\n",
       " 'embeddings': None,\n",
       " 'metadatas': [{'Unnamed: 0': 7,\n",
       "   'bathrooms': 1,\n",
       "   'bedrooms': 1,\n",
       "   'description': 'Artistic 1-bedroom, 1-bathroom loft in the vibrant Downtown Arts District. This creative space features exposed ductwork, concrete floors, and a gallery wall for showcasing artwork.',\n",
       "   'neigh_description': 'Immerse yourself in the arts scene with galleries, theaters, and studios just steps away in the Downtown Arts District. Live among fellow artists and creatives in this dynamic urban neighborhood.',\n",
       "   'neighborhood': 'Downtown Arts District',\n",
       "   'price': 400000,\n",
       "   'size': 1000},\n",
       "  {'Unnamed: 0': 8,\n",
       "   'bathrooms': 2,\n",
       "   'bedrooms': 3,\n",
       "   'description': 'Cozy 3-bedroom, 2-bathroom home in the family-friendly Suburban Meadows neighborhood. This well-maintained house features a fenced backyard, updated appliances, and a two-car garage.',\n",
       "   'neigh_description': 'Settle down in this quiet suburban community with parks, schools, and shopping centers nearby. Enjoy a safe and welcoming environment for families in Suburban Meadows.',\n",
       "   'neighborhood': 'Suburban Meadows',\n",
       "   'price': 450000,\n",
       "   'size': 1600},\n",
       "  {'Unnamed: 0': 9,\n",
       "   'bathrooms': 3,\n",
       "   'bedrooms': 4,\n",
       "   'description': 'Spacious 4-bedroom, 3-bathroom home in the prestigious Riverside Estates neighborhood. This elegant house boasts a grand foyer, formal dining room, and landscaped gardens.',\n",
       "   'neigh_description': 'Live in luxury along the riverfront in Riverside Estates, where upscale homes and manicured lawns define the neighborhood. Enjoy a peaceful setting with easy access to dining and entertainment options.',\n",
       "   'neighborhood': 'Riverside Estates',\n",
       "   'price': 750000,\n",
       "   'size': 2300}],\n",
       " 'documents': ['Artistic 1-bedroom, 1-bathroom loft in the vibrant Downtown Arts District. This creative space features exposed ductwork, concrete floors, and a gallery wall for showcasing artwork.',\n",
       "  'Cozy 3-bedroom, 2-bathroom home in the family-friendly Suburban Meadows neighborhood. This well-maintained house features a fenced backyard, updated appliances, and a two-car garage.',\n",
       "  'Spacious 4-bedroom, 3-bathroom home in the prestigious Riverside Estates neighborhood. This elegant house boasts a grand foyer, formal dining room, and landscaped gardens.']}"
      ]
     },
     "execution_count": 94,
     "metadata": {},
     "output_type": "execute_result"
    }
   ],
   "source": [
    "#This function creates embeddings for textual data.\n",
    "def generate_embeddings(input_data: Union[str, list[str]]) -> np.ndarray:    \n",
    "    model = SentenceTransformer(MODEL_NAME)\n",
    "    embeddings = model.encode(input_data)\n",
    "    return embeddings\n",
    "\n",
    "for index, row in df.iterrows():\n",
    "    listing_id = str(index)  #Turn a listing's ID into a string.\n",
    "    description = row['description'] #Extract a listing's description.\n",
    "    embedding = generate_embeddings(description) #Embed the extracted description.\n",
    "    #Add the listing to the vector database.\n",
    "    collection.add(\n",
    "        documents=[description],\n",
    "        metadatas=[row.to_dict()],\n",
    "        ids=[listing_id],\n",
    "        embeddings=[embedding.tolist()]\n",
    "    )\n",
    "\n",
    "collection.get(ids=[\"7\", \"8\", \"9\"])"
   ]
  },
  {
   "cell_type": "markdown",
   "id": "64bbd9e1",
   "metadata": {},
   "source": [
    "# Step 4: Building the User Preference Interface."
   ]
  },
  {
   "cell_type": "code",
   "execution_count": 95,
   "id": "089bb976",
   "metadata": {},
   "outputs": [
    {
     "name": "stdout",
     "output_type": "stream",
     "text": [
      "Q: How big do you want your house to be?\n",
      "A: A comfortable three-bedroom house with a spacious kitchen and a cozy living room.\n",
      "Q: What are 3 most important things for you in choosing this property?\n",
      "A: A quiet neighborhood, good local schools, and convenient shopping options.\n",
      "Q: Which amenities would you like?\n",
      "A: A backyard for gardening, a two-car garage, and a modern, energy-efficient heating system.\n",
      "Q: Which transportation options are important to you?\n",
      "A: Easy access to a reliable bus line, proximity to a major highway, and bike-friendly roads.\n",
      "Q: How urban do you want your neighborhood to be?\n",
      "A: A balance between suburban tranquility and access to urban amenities like restaurants and theaters.\n"
     ]
    }
   ],
   "source": [
    "#Simulate the process of collecting user preferences by hard-coding.\n",
    "\n",
    "questions = [   \n",
    "                \"How big do you want your house to be?\",\n",
    "                \"What are 3 most important things for you in choosing this property?\",\n",
    "                \"Which amenities would you like?\",\n",
    "                \"Which transportation options are important to you?\",\n",
    "                \"How urban do you want your neighborhood to be?\"\n",
    "            ]\n",
    "\n",
    "answers = [\n",
    "    \"A comfortable three-bedroom house with a spacious kitchen and a cozy living room.\",\n",
    "    \"A quiet neighborhood, good local schools, and convenient shopping options.\",\n",
    "    \"A backyard for gardening, a two-car garage, and a modern, energy-efficient heating system.\",\n",
    "    \"Easy access to a reliable bus line, proximity to a major highway, and bike-friendly roads.\",\n",
    "    \"A balance between suburban tranquility and access to urban amenities like restaurants and theaters.\"\n",
    "            ]\n",
    "\n",
    "#Combine the provided questions and answers into a simulated conversation. List of dictionaries.\n",
    "simulation = [{\"question\": q, \"answer\": a} for q, a in zip(questions, answers)]\n",
    "\n",
    "#Convert the above list of dictionaries into one string.\n",
    "preference = \"\\n\".join([f\"Q: {item['question']}\\nA: {item['answer']}\" for item in simulation])\n",
    "print(preference)"
   ]
  },
  {
   "cell_type": "markdown",
   "id": "bb131749",
   "metadata": {},
   "source": [
    "# Step 5: Searching Based on Preferences."
   ]
  },
  {
   "cell_type": "code",
   "execution_count": 96,
   "id": "b7564736",
   "metadata": {},
   "outputs": [
    {
     "name": "stdout",
     "output_type": "stream",
     "text": [
      "=== Most Relevant Listing ===\n",
      "Description:\n",
      "Cozy 3-bedroom, 2-bathroom home in the family-friendly Suburban Meadows neighborhood. This well-maintained house features a fenced backyard, updated appliances, and a two-car garage.\n",
      "\n",
      "Metadata:\n",
      "Neighborhood: Suburban Meadows\n",
      "Price: $450000\n",
      "Size: 1600 sqft\n",
      "Number of Bedrooms: 3\n",
      "Number of Bathrooms: 2\n",
      "\n",
      "\n",
      "Neighborhood Description:\n",
      "Settle down in this quiet suburban community with parks, schools, and shopping centers nearby. Enjoy a safe and welcoming environment for families in Suburban Meadows.\n"
     ]
    }
   ],
   "source": [
    "def retrieve(preference):\n",
    "    #Embed the user preferences.\n",
    "    embedding_of_preference = generate_embeddings(preference)\n",
    "\n",
    "    #Find the most relevant listing to the embedded user preferences in the database.\n",
    "    RElistings_retrieved = collection.query(\n",
    "        query_embeddings=embedding_of_preference.tolist(),\n",
    "        n_results=1  #This is necessary to identify the top listing and nothing else.\n",
    "    )\n",
    "\n",
    "    #Extract the key statistics from the retrieved listing.\n",
    "    metadata = RElistings_retrieved['metadatas'][0][0]\n",
    "    metadata_string = f\"Neighborhood: {metadata['neighborhood']}\\n\" \\\n",
    "                      f\"Price: ${metadata['price']}\\n\" \\\n",
    "                      f\"Size: {metadata['size']} sqft\\n\" \\\n",
    "                      f\"Number of Bedrooms: {metadata['bedrooms']}\\n\" \\\n",
    "                      f\"Number of Bathrooms: {metadata['bathrooms']}\\n\"\n",
    "\n",
    "\n",
    "    #Combine the key statistics with the property and neighborhood descriptions.\n",
    "    description = RElistings_retrieved['documents'][0][0]\n",
    "    neigh_description = metadata['neigh_description']\n",
    "    listing = f\"Description:\\n{description}\\n\\nMetadata:\\n{metadata_string}\\n\\nNeighborhood Description:\\n{neigh_description}\"\n",
    "    \n",
    "    return listing\n",
    "\n",
    "listing = retrieve(preference)\n",
    "print(\"=== Most Relevant Listing ===\")\n",
    "print(listing)"
   ]
  },
  {
   "cell_type": "markdown",
   "id": "14ff6388",
   "metadata": {},
   "source": [
    "# Step 6: Personalizing Listing Descriptions."
   ]
  },
  {
   "cell_type": "code",
   "execution_count": 97,
   "id": "d7fe573f",
   "metadata": {},
   "outputs": [
    {
     "name": "stdout",
     "output_type": "stream",
     "text": [
      "=== Most Relevant Listing and Instructions ===\n",
      "\n",
      "For the retrieved listing below, combine the description with the metadata and neighborhood description.\n",
      "\n",
      "---\n",
      "\n",
      "Context: \n",
      "\n",
      "Description:\n",
      "Cozy 3-bedroom, 2-bathroom home in the family-friendly Suburban Meadows neighborhood. This well-maintained house features a fenced backyard, updated appliances, and a two-car garage.\n",
      "\n",
      "Metadata:\n",
      "Neighborhood: Suburban Meadows\n",
      "Price: $450000\n",
      "Size: 1600 sqft\n",
      "Number of Bedrooms: 3\n",
      "Number of Bathrooms: 2\n",
      "\n",
      "\n",
      "Neighborhood Description:\n",
      "Settle down in this quiet suburban community with parks, schools, and shopping centers nearby. Enjoy a safe and welcoming environment for families in Suburban Meadows.\n",
      "\n",
      "---\n",
      "\n",
      "Question:\n",
      "\n",
      "Augment the result by tailoring it to resonate with the buyer’s specific preferences.\n",
      "Subtly emphasize aspects of the property that align with what the buyer is looking for.\n",
      "The augmentation should personalize the listing without changing factual information, especially the numbers.\n",
      "\n",
      "---\n",
      "\n",
      "Answer:\n",
      "    \n"
     ]
    }
   ],
   "source": [
    "#Similar to step 5, find the most relevant listing to the embedded user preferences in the database. \n",
    "#Then, combine the retrieved listing with a personalization prompt.\n",
    "def create_prompt(preference):\n",
    "    \n",
    "    listing = retrieve(preference)\n",
    "    \n",
    "    prompt_template = \"\"\"\n",
    "For the retrieved listing below, combine the description with the metadata and neighborhood description.\n",
    "\n",
    "---\n",
    "\n",
    "Context: \n",
    "\n",
    "{}\n",
    "\n",
    "---\n",
    "\n",
    "Question:\n",
    "\n",
    "Augment the result by tailoring it to resonate with the buyer’s specific preferences.\n",
    "Subtly emphasize aspects of the property that align with what the buyer is looking for.\n",
    "The augmentation should personalize the listing without changing factual information, especially the numbers.\n",
    "\n",
    "---\n",
    "\n",
    "Answer:\n",
    "    \"\"\"\n",
    "    return prompt_template.format(listing)\n",
    "\n",
    "prompt_personal = create_prompt(preference)\n",
    "\n",
    "print(\"=== Most Relevant Listing and Instructions ===\")\n",
    "print(prompt_personal)"
   ]
  },
  {
   "cell_type": "code",
   "execution_count": 98,
   "id": "d8400a07",
   "metadata": {},
   "outputs": [
    {
     "name": "stdout",
     "output_type": "stream",
     "text": [
      "=== Most Relevant Listing (Augmented) ===\n",
      "Welcome to your future home in the peaceful Suburban Meadows neighborhood! This cozy 3-bedroom, 2-bathroom house is perfect for you and your family. Imagine coming home to a well-maintained property with a fenced backyard, ideal for outdoor gatherings and playtime. With updated appliances and a two-car garage, convenience is at your fingertips. \n",
      "\n",
      "Located in a family-friendly community with parks, schools, and shopping centers nearby, you'll have everything you need within reach. Embrace the safe and welcoming environment that Suburban Meadows offers, providing a sense of security and comfort for your loved ones. \n",
      "\n",
      "Priced at $450,000 for a 1600 sqft home, this property is a fantastic investment for your family's future. Don't miss out on the opportunity to make this house your own in the heart of Suburban Meadows.\n"
     ]
    }
   ],
   "source": [
    "#WARNING. You may need to run this cell a few times for the augmented response to update to match the provided preferences.\n",
    "\n",
    "#This is an instance of the LLMChain class. It connects LLMs with prompt templates to generate responses in a structured way.\n",
    "llm_chain = LLMChain(llm=llm, prompt=PromptTemplate.from_template(prompt_personal))\n",
    "\n",
    "#Implement the LLM chain to augment the retrieved listing that matches with the preferences specified by a user.\n",
    "personalized_listing = llm_chain.run(input=preference)\n",
    "\n",
    "print(\"=== Most Relevant Listing (Augmented) ===\")\n",
    "print(personalized_listing)"
   ]
  },
  {
   "cell_type": "markdown",
   "id": "c26aa5c3",
   "metadata": {},
   "source": [
    "# Step 7: Create new preferences to test the agent."
   ]
  },
  {
   "cell_type": "code",
   "execution_count": 100,
   "id": "da3ac7a7",
   "metadata": {},
   "outputs": [
    {
     "name": "stdout",
     "output_type": "stream",
     "text": [
      "=== Most Relevant Listing and Instructions ===\n",
      "\n",
      "For the retrieved listing below, combine the description with the metadata and neighborhood description.\n",
      "\n",
      "---\n",
      "\n",
      "Context: \n",
      "\n",
      "Description:\n",
      "Luxurious 5-bedroom, 4-bathroom estate on the shores of Lakefront Estates. This custom-built home features a gourmet kitchen, private dock, and breathtaking lake views.\n",
      "\n",
      "Metadata:\n",
      "Neighborhood: Lakefront Estates\n",
      "Price: $1200000\n",
      "Size: 3500 sqft\n",
      "Number of Bedrooms: 5\n",
      "Number of Bathrooms: 4\n",
      "\n",
      "\n",
      "Neighborhood Description:\n",
      "Experience waterfront living at its finest in this exclusive gated community. Enjoy boating, fishing, and relaxing by the lake in this prestigious neighborhood.\n",
      "\n",
      "---\n",
      "\n",
      "Question:\n",
      "\n",
      "Augment the result by tailoring it to resonate with the buyer’s specific preferences.\n",
      "Subtly emphasize aspects of the property that align with what the buyer is looking for.\n",
      "The augmentation should personalize the listing without changing factual information, especially the numbers.\n",
      "\n",
      "---\n",
      "\n",
      "Answer:\n",
      "    \n",
      "=== Most Relevant Listing (Augmented) ===\n",
      "Luxurious 5-bedroom, 4-bathroom estate nestled in the prestigious Lakefront Estates neighborhood, offering the perfect blend of elegance and tranquility. This custom-built home boasts a gourmet kitchen, ideal for culinary enthusiasts, a private dock for water enthusiasts, and stunning lake views that will take your breath away. Immerse yourself in the exclusive gated community, where you can enjoy boating, fishing, and unwinding by the lake. Priced at $1200000, this 3500 sqft property is a rare gem that perfectly aligns with your desire for upscale waterfront living.\n"
     ]
    }
   ],
   "source": [
    "#WARNING. You may need to run this cell a few times for the augmented response to update to match the provided preferences.\n",
    "\n",
    "llm_chain = LLMChain(llm=llm, prompt=PromptTemplate.from_template(prompt_personal))\n",
    "\n",
    "preference = \"I am looking for a luxurious property with beach access.\"\n",
    "\n",
    "prompt_personal = create_prompt(preference)\n",
    "print(\"=== Most Relevant Listing and Instructions ===\")\n",
    "print(prompt_personal)\n",
    "\n",
    "personalized_listing = llm_chain.run(input=preference)\n",
    "print(\"=== Most Relevant Listing (Augmented) ===\")\n",
    "print(personalized_listing)"
   ]
  },
  {
   "cell_type": "code",
   "execution_count": 104,
   "id": "eb6a9dc1",
   "metadata": {},
   "outputs": [
    {
     "name": "stdout",
     "output_type": "stream",
     "text": [
      "=== Most Relevant Listing and Instructions ===\n",
      "\n",
      "For the retrieved listing below, combine the description with the metadata and neighborhood description.\n",
      "\n",
      "---\n",
      "\n",
      "Context: \n",
      "\n",
      "Description:\n",
      "Artistic 1-bedroom, 1-bathroom loft in the vibrant Downtown Arts District. This creative space features exposed ductwork, concrete floors, and a gallery wall for showcasing artwork.\n",
      "\n",
      "Metadata:\n",
      "Neighborhood: Downtown Arts District\n",
      "Price: $400000\n",
      "Size: 1000 sqft\n",
      "Number of Bedrooms: 1\n",
      "Number of Bathrooms: 1\n",
      "\n",
      "\n",
      "Neighborhood Description:\n",
      "Immerse yourself in the arts scene with galleries, theaters, and studios just steps away in the Downtown Arts District. Live among fellow artists and creatives in this dynamic urban neighborhood.\n",
      "\n",
      "---\n",
      "\n",
      "Question:\n",
      "\n",
      "Augment the result by tailoring it to resonate with the buyer’s specific preferences.\n",
      "Subtly emphasize aspects of the property that align with what the buyer is looking for.\n",
      "The augmentation should personalize the listing without changing factual information, especially the numbers.\n",
      "\n",
      "---\n",
      "\n",
      "Answer:\n",
      "    \n",
      "=== Most Relevant Listing (Augmented) ===\n",
      "Immerse yourself in the vibrant arts community of the Downtown Arts District with this artistic 1-bedroom, 1-bathroom loft. The creative space features exposed ductwork, concrete floors, and a gallery wall perfect for showcasing your own artwork. Live among fellow artists and creatives in this dynamic urban neighborhood, where galleries, theaters, and studios are just steps away. This 1000 sqft loft is priced at $400,000, offering a unique opportunity to be part of a thriving artistic community while enjoying a creatively inspiring living space.\n"
     ]
    }
   ],
   "source": [
    "#WARNING. You may need to run this cell a few times for the augmented response to update to match the provided preferences.\n",
    "\n",
    "llm_chain = LLMChain(llm=llm, prompt=PromptTemplate.from_template(prompt_personal))\n",
    "\n",
    "preference = \"I like fine art and want a property in a neighborhood full of galleries and museums.\"\n",
    "\n",
    "prompt_personal = create_prompt(preference)\n",
    "print(\"=== Most Relevant Listing and Instructions ===\")\n",
    "print(prompt_personal)\n",
    "\n",
    "personalized_listing = llm_chain.run(input=preference)\n",
    "print(\"=== Most Relevant Listing (Augmented) ===\")\n",
    "print(personalized_listing)"
   ]
  }
 ],
 "metadata": {
  "kernelspec": {
   "display_name": "Python 3 (ipykernel)",
   "language": "python",
   "name": "python3"
  },
  "language_info": {
   "codemirror_mode": {
    "name": "ipython",
    "version": 3
   },
   "file_extension": ".py",
   "mimetype": "text/x-python",
   "name": "python",
   "nbconvert_exporter": "python",
   "pygments_lexer": "ipython3",
   "version": "3.10.11"
  }
 },
 "nbformat": 4,
 "nbformat_minor": 5
}
